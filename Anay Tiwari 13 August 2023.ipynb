{
 "cells": [
  {
   "cell_type": "code",
   "execution_count": 1,
   "id": "0b93231b",
   "metadata": {},
   "outputs": [],
   "source": [
    "import numpy as np \n",
    "import pandas as pd\n",
    "import matplotlib.pyplot as plt\n",
    "import seaborn as sns\n",
    "import scipy.stats as stats\n",
    "from scipy.stats import norm\n",
    "from scipy.stats import ttest_1samp, ttest_ind\n",
    "from statsmodels.formula.api import ols\n",
    "from statsmodels.stats.anova import _get_covariance,anova_lm\n",
    "import statsmodels.stats.api as sm\n"
   ]
  },
  {
   "cell_type": "markdown",
   "id": "30cb29e5",
   "metadata": {},
   "source": [
    "A physiotherapist with a male football team is interested in studying the relationship between foot injuries and the positions at which the players play from the data collected"
   ]
  },
  {
   "cell_type": "markdown",
   "id": "389662ec",
   "metadata": {},
   "source": [
    "1.1 What is the probability that a randomly chosen player would suffer an injury?"
   ]
  },
  {
   "cell_type": "code",
   "execution_count": 2,
   "id": "114127f5",
   "metadata": {},
   "outputs": [
    {
     "name": "stdout",
     "output_type": "stream",
     "text": [
      "The probability that a randomly chosen player would suffer an injury is 0.62\n"
     ]
    }
   ],
   "source": [
    "Total_number_of_players_injured = 145\n",
    "Total_number_of_players_altogether = 235\n",
    "print('The probability that a randomly chosen player would suffer an injury is', round(Total_number_of_players_injured / Total_number_of_players_altogether,2))"
   ]
  },
  {
   "cell_type": "markdown",
   "id": "f5ec4692",
   "metadata": {},
   "source": [
    "1.2 What is the probability that a player is a forward or a winger?"
   ]
  },
  {
   "cell_type": "code",
   "execution_count": 3,
   "id": "d8c82bdc",
   "metadata": {},
   "outputs": [
    {
     "name": "stdout",
     "output_type": "stream",
     "text": [
      "The probabaility that a player is a forward or a winger  0.52\n"
     ]
    }
   ],
   "source": [
    "total_number_of_forward_players=94\n",
    "total_number_of_winger=29\n",
    "total_number_of_players=235\n",
    "a=total_number_of_forward_players+total_number_of_winger\n",
    "print('The probabaility that a player is a forward or a winger ', round(a/total_number_of_players,2))"
   ]
  },
  {
   "cell_type": "markdown",
   "id": "5f310a00",
   "metadata": {},
   "source": [
    "1.3 What is the probability that a randomly chosen player plays in a striker position and has a foot injury?"
   ]
  },
  {
   "cell_type": "code",
   "execution_count": 4,
   "id": "a7a06d67",
   "metadata": {},
   "outputs": [
    {
     "name": "stdout",
     "output_type": "stream",
     "text": [
      "The probability that a randomly chosen player plays in a striker position and has a foot injury = 0.58\n"
     ]
    }
   ],
   "source": [
    "Total_number_of_strikers_in_the_injured_category=45\n",
    "Total_number_of_players_which_are_strikers=77\n",
    "print('The probability that a randomly chosen player plays in a striker position and has a foot injury =',round(Total_number_of_strikers_in_the_injured_category/Total_number_of_players_which_are_strikers,2))"
   ]
  },
  {
   "cell_type": "markdown",
   "id": "0c8bd03a",
   "metadata": {},
   "source": [
    "1.4 What is the probability that a randomly chosen injured player is a striker?"
   ]
  },
  {
   "cell_type": "code",
   "execution_count": 5,
   "id": "0963651f",
   "metadata": {},
   "outputs": [
    {
     "name": "stdout",
     "output_type": "stream",
     "text": [
      "The probability that a randomly chosen injured player is a stiker 0.31\n"
     ]
    }
   ],
   "source": [
    "Total_number_of_strikers_in_the_injured_category=45\n",
    "Total_number_of_injured_players=145\n",
    "print('The probability that a randomly chosen injured player is a stiker', round(Total_number_of_strikers_in_the_injured_category/Total_number_of_injured_players,2))"
   ]
  },
  {
   "cell_type": "markdown",
   "id": "11fe1d25",
   "metadata": {},
   "source": [
    "1.5 What is the probability that a randomly chosen injured player is either a forward or an attacking midfielder?"
   ]
  },
  {
   "cell_type": "code",
   "execution_count": 6,
   "id": "45fa38a1",
   "metadata": {},
   "outputs": [
    {
     "name": "stdout",
     "output_type": "stream",
     "text": [
      "The probability that a randomly chosen injured player is either a forward or an attacking midfielder is 0.55\n"
     ]
    }
   ],
   "source": [
    "Total_number_of_forward_players=56\n",
    "Total_number_of_midfielder=24\n",
    "Total_number_of_injured=145\n",
    "x=(Total_number_of_forward_players+Total_number_of_midfielder)\n",
    "print('The probability that a randomly chosen injured player is either a forward or an attacking midfielder is',round(x/Total_number_of_injured,2))"
   ]
  },
  {
   "cell_type": "markdown",
   "id": "9d1a2ad9",
   "metadata": {},
   "source": [
    "Problem 2\n",
    "\n",
    "An independent research organization is trying to estimate the probability that an accident at a nuclear power plant will result in radiation leakage. The types of accidents possible at the plant are, fire hazards, mechanical failure, or human error. The research organization also knows that two or more types of accidents cannot occur simultaneously.\n",
    "\n",
    "According to the studies carried out by the organization, the probability of a radiation leak in case of a fire is 20%, the probability of a radiation leak in case of a mechanical 50%, and the probability of a radiation leak in case of a human error is 10%. The studies also showed the following;\n",
    "\n",
    "The probability of a radiation leak occurring simultaneously with a fire is 0.1%. The probability of a radiation leak occurring simultaneously with a mechanical failure is 0.15%. The probability of a radiation leak occurring simultaneously with a human error is 0.12%. On the basis of the information available"
   ]
  },
  {
   "cell_type": "markdown",
   "id": "856b7e6e",
   "metadata": {},
   "source": [
    "2.1 What are the probabilities of a fire, a mechanical failure, and a human error respectively?"
   ]
  },
  {
   "cell_type": "code",
   "execution_count": 7,
   "id": "08148eb9",
   "metadata": {},
   "outputs": [
    {
     "name": "stdout",
     "output_type": "stream",
     "text": [
      "Probility of Fire is 0.005\n",
      "Probability of Mechanical Fairlure is 0.003\n",
      "Probability of HumanError is  0.012\n"
     ]
    }
   ],
   "source": [
    "Pr_of_radiation_leak_in_case_of_fire=20\n",
    "Pr_of_radiation_lea_with_fire=0.1\n",
    "Pr_of_radiation_lea_in_case_MF=50\n",
    "Pr_of_radiation_lea_with_MF=0.15\n",
    "Pr_of_radiation_lea_in_case_HE=10\n",
    "Pr_of_radiation_lea_with_HE=0.12\n",
    "\n",
    "print('Probility of Fire is', Pr_of_radiation_lea_with_fire/Pr_of_radiation_leak_in_case_of_fire )\n",
    "\n",
    "\n",
    "print('Probability of Mechanical Fairlure is',Pr_of_radiation_lea_with_MF/Pr_of_radiation_lea_in_case_MF)\n",
    "\n",
    "\n",
    "print('Probability of HumanError is ', Pr_of_radiation_lea_with_HE/Pr_of_radiation_lea_in_case_HE)"
   ]
  },
  {
   "cell_type": "markdown",
   "id": "baa6412a",
   "metadata": {},
   "source": [
    "2.2 What is the probability of a radiation leak?"
   ]
  },
  {
   "cell_type": "code",
   "execution_count": 8,
   "id": "ac8454e3",
   "metadata": {},
   "outputs": [
    {
     "name": "stdout",
     "output_type": "stream",
     "text": [
      "the probability of a radiation leak = 0.37\n"
     ]
    }
   ],
   "source": [
    "a=Pr_of_radiation_lea_with_fire+Pr_of_radiation_lea_with_MF+Pr_of_radiation_lea_with_HE\n",
    "print('the probability of a radiation leak =',a)"
   ]
  },
  {
   "cell_type": "markdown",
   "id": "f2b9378c",
   "metadata": {},
   "source": [
    "2.3 Suppose there has been a radiation leak in the reactor for which the definite cause is not known. What is the probability that it has been caused by:\n",
    "\n",
    "A Fire. A Mechanical Failure. A Human Error."
   ]
  },
  {
   "cell_type": "code",
   "execution_count": 9,
   "id": "480905b6",
   "metadata": {},
   "outputs": [
    {
     "name": "stdout",
     "output_type": "stream",
     "text": [
      "The probability that it has been caused by a Fire = 0.27\n"
     ]
    }
   ],
   "source": [
    "Proability_of_fire=0.1/0.37\n",
    "print('The probability that it has been caused by a Fire =',round(Proability_of_fire,2))"
   ]
  },
  {
   "cell_type": "code",
   "execution_count": 10,
   "id": "1347c10b",
   "metadata": {},
   "outputs": [
    {
     "name": "stdout",
     "output_type": "stream",
     "text": [
      "The probability that it has been caused by a Fire = 0.41\n"
     ]
    }
   ],
   "source": [
    "Probability_of_mechanical_failure=0.15/0.37\n",
    "print('The probability that it has been caused by a Fire =',round(Probability_of_mechanical_failure,2))"
   ]
  },
  {
   "cell_type": "code",
   "execution_count": 11,
   "id": "14187a6e",
   "metadata": {},
   "outputs": [
    {
     "name": "stdout",
     "output_type": "stream",
     "text": [
      "The probability that it has been caused by a Fire = 0.32\n"
     ]
    }
   ],
   "source": [
    "Probability_of_a_human_error=0.12/0.37\n",
    "print('The probability that it has been caused by a Fire =',round(Probability_of_a_human_error,2))"
   ]
  },
  {
   "cell_type": "markdown",
   "id": "06b361ed",
   "metadata": {},
   "source": [
    "Problem 3:\n",
    "\n",
    "The breaking strength of gunny bags used for packaging cement is normally distributed with a mean of 5 kg per sq. centimeter and a standard deviation of 1.5 kg per sq. centimeter. The quality team of the cement company wants to know the following about the packaging material to better understand wastage or pilferage within the supply chain; Answer the questions below based on the given information; (Provide an appropriate visual representation of your answers, without which marks will be deducted)"
   ]
  },
  {
   "cell_type": "markdown",
   "id": "d276508e",
   "metadata": {},
   "source": [
    "3.1 What proportion of the gunny bags have a breaking strength less than 3.17 kg per sq cm?"
   ]
  },
  {
   "cell_type": "code",
   "execution_count": 12,
   "id": "2b992b67",
   "metadata": {},
   "outputs": [
    {
     "data": {
      "text/plain": [
       "-1.22"
      ]
     },
     "execution_count": 12,
     "metadata": {},
     "output_type": "execute_result"
    }
   ],
   "source": [
    "#mean = μ=5Kg/Sq.cm\n",
    "#Sigma= σ= 1.5Kg/Sq.cm\n",
    "#Gunny bags Strength <3.17Kg/Sq.cm\n",
    "#z= Z = (x-μ)/σ\n",
    "z=((3.17-5)/1.5)\n",
    "z"
   ]
  },
  {
   "cell_type": "code",
   "execution_count": 13,
   "id": "ef898293",
   "metadata": {},
   "outputs": [
    {
     "data": {
      "image/png": "[encoded data removed]",
      "text/plain": [
       "<Figure size 640x480 with 1 Axes>"
      ]
     },
     "metadata": {},
     "output_type": "display_data"
    }
   ],
   "source": [
    "x=np.linspace(-4,4,100)\n",
    "plt.plot(x,norm.pdf(x,0,1))\n",
    "plt.axvline(x=z,c='r')\n",
    "plt.show()"
   ]
  },
  {
   "cell_type": "code",
   "execution_count": 14,
   "id": "c620e1f4",
   "metadata": {},
   "outputs": [
    {
     "data": {
      "text/plain": [
       "0.1112"
      ]
     },
     "execution_count": 14,
     "metadata": {},
     "output_type": "execute_result"
    }
   ],
   "source": [
    "round(stats.norm.cdf(3.17,loc=5,scale=1.5),4)"
   ]
  },
  {
   "cell_type": "markdown",
   "id": "2040c798",
   "metadata": {},
   "source": [
    "11.12% proportion of the gunny bags have a breaking strength less than 3.17 kg per sq cm"
   ]
  },
  {
   "cell_type": "markdown",
   "id": "3623dff3",
   "metadata": {},
   "source": [
    "3.2 What proportion of the gunny bags have a breaking strength at least 3.6 kg per sq cm.?"
   ]
  },
  {
   "cell_type": "code",
   "execution_count": 15,
   "id": "68ef6d84",
   "metadata": {},
   "outputs": [
    {
     "data": {
      "text/plain": [
       "-0.9333333333333332"
      ]
     },
     "execution_count": 15,
     "metadata": {},
     "output_type": "execute_result"
    }
   ],
   "source": [
    "#mean = μ = 5 kg/sq.cm\n",
    "#Sigma = σ = 1.5 kg/sq.cm\n",
    "#Gunny bags strength at least 3.6 kg/sq.cm\n",
    "#z = Z = (x-μ) / σ\n",
    "Z = (3.6-5) / 1.5\n",
    "Z"
   ]
  },
  {
   "cell_type": "code",
   "execution_count": 16,
   "id": "0e06be1b",
   "metadata": {},
   "outputs": [
    {
     "data": {
      "image/png": "[encoded data removed]",
      "text/plain": [
       "<Figure size 640x480 with 1 Axes>"
      ]
     },
     "metadata": {},
     "output_type": "display_data"
    }
   ],
   "source": [
    "x = np.linspace(-4,4,100)\n",
    "plt.plot(x,norm.pdf(x,0,1))\n",
    "plt.axvline(x=Z,c='r')\n",
    "plt.show()"
   ]
  },
  {
   "cell_type": "code",
   "execution_count": 17,
   "id": "12e8c600",
   "metadata": {},
   "outputs": [
    {
     "data": {
      "text/plain": [
       "0.8247"
      ]
     },
     "execution_count": 17,
     "metadata": {},
     "output_type": "execute_result"
    }
   ],
   "source": [
    "round(1-stats.norm.cdf(3.6,loc=5,scale=1.5),4)"
   ]
  },
  {
   "cell_type": "markdown",
   "id": "329df1c0",
   "metadata": {},
   "source": [
    "82.45% of the gunny bags have a breaking strength at least 3.6 kg per sq cm."
   ]
  },
  {
   "cell_type": "markdown",
   "id": "98f7a146",
   "metadata": {},
   "source": [
    "3.3 What proportion of the gunny bags have a breaking strength between 5 and 5.5 kg per sq cm.?"
   ]
  },
  {
   "cell_type": "code",
   "execution_count": 18,
   "id": "171f645f",
   "metadata": {},
   "outputs": [
    {
     "data": {
      "text/plain": [
       "0.0"
      ]
     },
     "execution_count": 18,
     "metadata": {},
     "output_type": "execute_result"
    }
   ],
   "source": [
    "#mean = μ = 5 kg/sq.cm\n",
    "#Sigma = σ = 1.5 kg/sq.cm\n",
    "#z = Z = (x-μ) / σ\n",
    "z1=(5-5)/1.5\n",
    "z1"
   ]
  },
  {
   "cell_type": "code",
   "execution_count": 19,
   "id": "be33ac91",
   "metadata": {},
   "outputs": [
    {
     "data": {
      "text/plain": [
       "0.3333333333333333"
      ]
     },
     "execution_count": 19,
     "metadata": {},
     "output_type": "execute_result"
    }
   ],
   "source": [
    "#mean = μ = 5 kg/sq.cm\n",
    "#Sigma = σ = 1.5 kg/sq.cm\n",
    "#z = Z = (x-μ) / σ\n",
    "z2=(5.5-5)/1.5\n",
    "z2"
   ]
  },
  {
   "cell_type": "code",
   "execution_count": 20,
   "id": "61021be8",
   "metadata": {},
   "outputs": [
    {
     "data": {
      "image/png": "[encoded data removed]",
      "text/plain": [
       "<Figure size 640x480 with 1 Axes>"
      ]
     },
     "metadata": {},
     "output_type": "display_data"
    }
   ],
   "source": [
    "x=np.linspace(-4,4.100)\n",
    "plt.plot(x,norm.pdf(x,0,1))\n",
    "plt.axvline(x=z1,c='r')\n",
    "plt.axvline(x=z2,c='r')\n",
    "plt.show()"
   ]
  },
  {
   "cell_type": "code",
   "execution_count": 21,
   "id": "6c233afa",
   "metadata": {},
   "outputs": [
    {
     "data": {
      "text/plain": [
       "0.1306"
      ]
     },
     "execution_count": 21,
     "metadata": {},
     "output_type": "execute_result"
    }
   ],
   "source": [
    "round(stats.norm.cdf(5.5,loc=5,scale=1.5)-stats.norm.cdf(5,loc=5,scale=1.5),4)"
   ]
  },
  {
   "cell_type": "markdown",
   "id": "1d5dd92f",
   "metadata": {},
   "source": [
    "13.06% of gunny bags have a breaking strength between 5 and 5.5 kg per sq cm."
   ]
  },
  {
   "cell_type": "markdown",
   "id": "78d480f7",
   "metadata": {},
   "source": [
    "3.4 What proportion of the gunny bags have a breaking strength NOT between 3 and 7.5 kg per sq cm.?"
   ]
  },
  {
   "cell_type": "code",
   "execution_count": 22,
   "id": "424eb19b",
   "metadata": {},
   "outputs": [
    {
     "data": {
      "text/plain": [
       "-1.3333333333333333"
      ]
     },
     "execution_count": 22,
     "metadata": {},
     "output_type": "execute_result"
    }
   ],
   "source": [
    "#μ=5Kg/Sq.cm\n",
    "#σ=1.5Kg/Sq.cm\n",
    "#z= Z = (x-μ)/σ\n",
    "Z1=(3-5)/1.5\n",
    "Z1"
   ]
  },
  {
   "cell_type": "code",
   "execution_count": 23,
   "id": "32372689",
   "metadata": {},
   "outputs": [
    {
     "data": {
      "text/plain": [
       "1.6666666666666667"
      ]
     },
     "execution_count": 23,
     "metadata": {},
     "output_type": "execute_result"
    }
   ],
   "source": [
    "#μ=5Kg/Sq.cm\n",
    "#σ=1.5Kg/Sq.cm\n",
    "#z= Z = (x-μ)/σ\n",
    "Z2=(7.5-5)/1.5\n",
    "Z2"
   ]
  },
  {
   "cell_type": "code",
   "execution_count": 24,
   "id": "f3c74afe",
   "metadata": {},
   "outputs": [
    {
     "data": {
      "image/png": "[encoded data removed]",
      "text/plain": [
       "<Figure size 640x480 with 1 Axes>"
      ]
     },
     "metadata": {},
     "output_type": "display_data"
    }
   ],
   "source": [
    "x=np.linspace(-4,4,100)\n",
    "plt.plot(x,norm.pdf(x,0,1))\n",
    "plt.axvline(x=Z1,c='r')\n",
    "plt.axvline(x=Z2,c='r')\n",
    "plt.show()"
   ]
  },
  {
   "cell_type": "code",
   "execution_count": 25,
   "id": "971e2d05",
   "metadata": {},
   "outputs": [
    {
     "data": {
      "text/plain": [
       "0.861"
      ]
     },
     "execution_count": 25,
     "metadata": {},
     "output_type": "execute_result"
    }
   ],
   "source": [
    "g=round(stats.norm.cdf(7.5,loc=5,scale=1.5)-stats.norm.cdf(3,loc=5,scale=1.5),4)\n",
    "g"
   ]
  },
  {
   "cell_type": "code",
   "execution_count": 26,
   "id": "29aba2f3",
   "metadata": {},
   "outputs": [
    {
     "name": "stdout",
     "output_type": "stream",
     "text": [
      "The Proportion of Gunny bags have breaking strength is not between 3 and 7.5 kg/sq.cm is 13.9 %\n"
     ]
    }
   ],
   "source": [
    "print('The Proportion of Gunny bags have breaking strength is not between 3 and 7.5 kg/sq.cm is',round((1-g)*100,4),'%')"
   ]
  },
  {
   "cell_type": "markdown",
   "id": "0f65018a",
   "metadata": {},
   "source": [
    "Problem 4. Grades of the final examination in a training course are found to be normally distributed, with a mean of 77 and a standard deviation of 8.5. Based on the given information answer the questions below."
   ]
  },
  {
   "cell_type": "markdown",
   "id": "bfc605b9",
   "metadata": {},
   "source": [
    "4.1 What is the probability that a randomly chosen student gets a grade below 85 on this exam?"
   ]
  },
  {
   "cell_type": "code",
   "execution_count": 27,
   "id": "98920db9",
   "metadata": {},
   "outputs": [
    {
     "data": {
      "text/plain": [
       "0.8267"
      ]
     },
     "execution_count": 27,
     "metadata": {},
     "output_type": "execute_result"
    }
   ],
   "source": [
    "#μ=77\n",
    "#σ=8.5\n",
    "round(stats.norm.cdf(85,loc=77,scale=8.5),4)"
   ]
  },
  {
   "cell_type": "code",
   "execution_count": 28,
   "id": "1313a019",
   "metadata": {},
   "outputs": [
    {
     "name": "stdout",
     "output_type": "stream",
     "text": [
      "The probability that a randomly chosen student gets a grade below 85 on this exam is 82.67 %\n"
     ]
    }
   ],
   "source": [
    "print('The probability that a randomly chosen student gets a grade below 85 on this exam is',0.8267*100,'%')"
   ]
  },
  {
   "cell_type": "markdown",
   "id": "754b5b07",
   "metadata": {},
   "source": [
    "4.2 What is the probability that a randomly selected student scores between 65 and 87?"
   ]
  },
  {
   "cell_type": "code",
   "execution_count": 29,
   "id": "efe55e61",
   "metadata": {},
   "outputs": [
    {
     "data": {
      "text/plain": [
       "0.8013"
      ]
     },
     "execution_count": 29,
     "metadata": {},
     "output_type": "execute_result"
    }
   ],
   "source": [
    "#μ=77\n",
    "#σ=8.5\n",
    "round(stats.norm.cdf(87,loc=77,scale=8.5)-stats.norm.cdf(65,loc=77,scale=8.5),4)"
   ]
  },
  {
   "cell_type": "code",
   "execution_count": 30,
   "id": "156fbb04",
   "metadata": {},
   "outputs": [
    {
     "name": "stdout",
     "output_type": "stream",
     "text": [
      "The probability that a randomly selected student scores between 65 and 87 is 80.13 %\n"
     ]
    }
   ],
   "source": [
    "print('The probability that a randomly selected student scores between 65 and 87 is',0.8013*100,'%')"
   ]
  },
  {
   "cell_type": "markdown",
   "id": "593b61f1",
   "metadata": {},
   "source": [
    "4.3 What should be the passing cut-off so that 75% of the students clear the exam?"
   ]
  },
  {
   "cell_type": "code",
   "execution_count": 31,
   "id": "05dd8e04",
   "metadata": {},
   "outputs": [
    {
     "data": {
      "text/plain": [
       "82.73"
      ]
     },
     "execution_count": 31,
     "metadata": {},
     "output_type": "execute_result"
    }
   ],
   "source": [
    "#μ=77\n",
    "#σ=8.5\n",
    "#75% = 0.75\n",
    "round(stats.norm.ppf(0.75,loc=77,scale=8.5),2)"
   ]
  },
  {
   "cell_type": "code",
   "execution_count": 32,
   "id": "68c49a72",
   "metadata": {},
   "outputs": [
    {
     "name": "stdout",
     "output_type": "stream",
     "text": [
      "82.73 marks should be the passing cut-off required so that 75% students can clear exam\n"
     ]
    }
   ],
   "source": [
    "print('82.73 marks should be the passing cut-off required so that 75% students can clear exam')"
   ]
  },
  {
   "cell_type": "markdown",
   "id": "5a6fe878",
   "metadata": {},
   "source": [
    "Problem 5:\n",
    "\n",
    "Zingaro stone printing is a company that specializes in printing images or patterns on polished or unpolished stones. However, for the optimum level of printing of the image the stone surface has to have a Brinell's hardness index of at least 150. Recently, Zingaro has received a batch of polished and unpolished stones from its clients. Use the data provided to answer the following (assuming a 5% significance level);"
   ]
  },
  {
   "cell_type": "markdown",
   "id": "2f4b2ff2",
   "metadata": {},
   "source": [
    "5.1 Earlier experience of Zingaro with this particular client is favorable as the stone surface was found to be of adequate hardness. However, Zingaro has reason to believe now that the unpolished stones may not be suitable for printing. Do you think Zingaro is justified in thinking so?"
   ]
  },
  {
   "cell_type": "code",
   "execution_count": 33,
   "id": "9556de8e",
   "metadata": {},
   "outputs": [],
   "source": [
    "d2=pd.read_csv('Zingaro_Company.csv')"
   ]
  },
  {
   "cell_type": "code",
   "execution_count": 34,
   "id": "a68db0ad",
   "metadata": {},
   "outputs": [
    {
     "data": {
      "text/plain": [
       "(75, 2)"
      ]
     },
     "execution_count": 34,
     "metadata": {},
     "output_type": "execute_result"
    }
   ],
   "source": [
    "d2.shape"
   ]
  },
  {
   "cell_type": "code",
   "execution_count": 35,
   "id": "55e2f711",
   "metadata": {},
   "outputs": [
    {
     "data": {
      "text/html": [
       "<div>\n",
       "<style scoped>\n",
       "    .dataframe tbody tr th:only-of-type {\n",
       "        vertical-align: middle;\n",
       "    }\n",
       "\n",
       "    .dataframe tbody tr th {\n",
       "        vertical-align: top;\n",
       "    }\n",
       "\n",
       "    .dataframe thead th {\n",
       "        text-align: right;\n",
       "    }\n",
       "</style>\n",
       "<table border=\"1\" class=\"dataframe\">\n",
       "  <thead>\n",
       "    <tr style=\"text-align: right;\">\n",
       "      <th></th>\n",
       "      <th>Unpolished</th>\n",
       "      <th>Treated and Polished</th>\n",
       "    </tr>\n",
       "  </thead>\n",
       "  <tbody>\n",
       "    <tr>\n",
       "      <th>0</th>\n",
       "      <td>164.481713</td>\n",
       "      <td>133.209393</td>\n",
       "    </tr>\n",
       "    <tr>\n",
       "      <th>1</th>\n",
       "      <td>154.307045</td>\n",
       "      <td>138.482771</td>\n",
       "    </tr>\n",
       "    <tr>\n",
       "      <th>2</th>\n",
       "      <td>129.861048</td>\n",
       "      <td>159.665201</td>\n",
       "    </tr>\n",
       "    <tr>\n",
       "      <th>3</th>\n",
       "      <td>159.096184</td>\n",
       "      <td>145.663528</td>\n",
       "    </tr>\n",
       "    <tr>\n",
       "      <th>4</th>\n",
       "      <td>135.256748</td>\n",
       "      <td>136.789227</td>\n",
       "    </tr>\n",
       "  </tbody>\n",
       "</table>\n",
       "</div>"
      ],
      "text/plain": [
       "   Unpolished   Treated and Polished\n",
       "0   164.481713            133.209393\n",
       "1   154.307045            138.482771\n",
       "2   129.861048            159.665201\n",
       "3   159.096184            145.663528\n",
       "4   135.256748            136.789227"
      ]
     },
     "execution_count": 35,
     "metadata": {},
     "output_type": "execute_result"
    }
   ],
   "source": [
    "d2.head()"
   ]
  },
  {
   "cell_type": "code",
   "execution_count": 36,
   "id": "e955ff77",
   "metadata": {},
   "outputs": [
    {
     "data": {
      "text/html": [
       "<div>\n",
       "<style scoped>\n",
       "    .dataframe tbody tr th:only-of-type {\n",
       "        vertical-align: middle;\n",
       "    }\n",
       "\n",
       "    .dataframe tbody tr th {\n",
       "        vertical-align: top;\n",
       "    }\n",
       "\n",
       "    .dataframe thead th {\n",
       "        text-align: right;\n",
       "    }\n",
       "</style>\n",
       "<table border=\"1\" class=\"dataframe\">\n",
       "  <thead>\n",
       "    <tr style=\"text-align: right;\">\n",
       "      <th></th>\n",
       "      <th>Unpolished</th>\n",
       "      <th>Treated and Polished</th>\n",
       "    </tr>\n",
       "  </thead>\n",
       "  <tbody>\n",
       "    <tr>\n",
       "      <th>count</th>\n",
       "      <td>75.000000</td>\n",
       "      <td>75.000000</td>\n",
       "    </tr>\n",
       "    <tr>\n",
       "      <th>mean</th>\n",
       "      <td>134.110527</td>\n",
       "      <td>147.788117</td>\n",
       "    </tr>\n",
       "    <tr>\n",
       "      <th>std</th>\n",
       "      <td>33.041804</td>\n",
       "      <td>15.587355</td>\n",
       "    </tr>\n",
       "    <tr>\n",
       "      <th>min</th>\n",
       "      <td>48.406838</td>\n",
       "      <td>107.524167</td>\n",
       "    </tr>\n",
       "    <tr>\n",
       "      <th>25%</th>\n",
       "      <td>115.329753</td>\n",
       "      <td>138.268300</td>\n",
       "    </tr>\n",
       "    <tr>\n",
       "      <th>50%</th>\n",
       "      <td>135.597121</td>\n",
       "      <td>145.721322</td>\n",
       "    </tr>\n",
       "    <tr>\n",
       "      <th>75%</th>\n",
       "      <td>158.215098</td>\n",
       "      <td>157.373318</td>\n",
       "    </tr>\n",
       "    <tr>\n",
       "      <th>max</th>\n",
       "      <td>200.161313</td>\n",
       "      <td>192.272856</td>\n",
       "    </tr>\n",
       "  </tbody>\n",
       "</table>\n",
       "</div>"
      ],
      "text/plain": [
       "       Unpolished   Treated and Polished\n",
       "count    75.000000             75.000000\n",
       "mean    134.110527            147.788117\n",
       "std      33.041804             15.587355\n",
       "min      48.406838            107.524167\n",
       "25%     115.329753            138.268300\n",
       "50%     135.597121            145.721322\n",
       "75%     158.215098            157.373318\n",
       "max     200.161313            192.272856"
      ]
     },
     "execution_count": 36,
     "metadata": {},
     "output_type": "execute_result"
    }
   ],
   "source": [
    "d2.describe()"
   ]
  },
  {
   "cell_type": "code",
   "execution_count": 37,
   "id": "10c873fc",
   "metadata": {},
   "outputs": [
    {
     "data": {
      "text/plain": [
       "Unpolished              0\n",
       "Treated and Polished    0\n",
       "dtype: int64"
      ]
     },
     "execution_count": 37,
     "metadata": {},
     "output_type": "execute_result"
    }
   ],
   "source": [
    "d2.isnull().sum()"
   ]
  },
  {
   "cell_type": "code",
   "execution_count": 38,
   "id": "3daaadaa",
   "metadata": {},
   "outputs": [
    {
     "name": "stdout",
     "output_type": "stream",
     "text": [
      "<class 'pandas.core.frame.DataFrame'>\n",
      "RangeIndex: 75 entries, 0 to 74\n",
      "Data columns (total 2 columns):\n",
      " #   Column                Non-Null Count  Dtype  \n",
      "---  ------                --------------  -----  \n",
      " 0   Unpolished            75 non-null     float64\n",
      " 1   Treated and Polished  75 non-null     float64\n",
      "dtypes: float64(2)\n",
      "memory usage: 1.3 KB\n"
     ]
    }
   ],
   "source": [
    "d2.info()"
   ]
  },
  {
   "cell_type": "markdown",
   "id": "cadcc892",
   "metadata": {},
   "source": [
    "Step 1: Define null and alternative hypotheses\n",
    "\n",
    "H0=Mean Brinell’s hardness Index of unpolished stone surface is greater than or equal to 150.\n",
    "\n",
    "Ha= Mean Brinell’s hardness Index of unpolished stone surface is less than 150."
   ]
  },
  {
   "cell_type": "markdown",
   "id": "6aa41fde",
   "metadata": {},
   "source": [
    "OR"
   ]
  },
  {
   "cell_type": "markdown",
   "id": "e58d85e2",
   "metadata": {},
   "source": [
    "𝐻0 : 𝜇 => 150\n",
    "\n",
    "𝐻𝐴 : 𝜇 < 150"
   ]
  },
  {
   "cell_type": "markdown",
   "id": "03d554c4",
   "metadata": {},
   "source": [
    "Step 2: Decide the significance level Here we select 𝛼 = 0.05."
   ]
  },
  {
   "cell_type": "code",
   "execution_count": 39,
   "id": "6ab7b751",
   "metadata": {},
   "outputs": [
    {
     "name": "stdout",
     "output_type": "stream",
     "text": [
      "The sample size for this problem is 75\n"
     ]
    }
   ],
   "source": [
    "print('The sample size for this problem is',len(d2))"
   ]
  },
  {
   "cell_type": "markdown",
   "id": "61977911",
   "metadata": {},
   "source": [
    "Step 3: Identify the test statistic We do not know the population standard deviation although the sample size is more than 30 still we use the t distribution and the 𝑡𝑆𝑇𝐴𝑇 test statistic."
   ]
  },
  {
   "cell_type": "markdown",
   "id": "724c6ab1",
   "metadata": {},
   "source": [
    "Step 4: Calculate the p - value and test statistic"
   ]
  },
  {
   "cell_type": "markdown",
   "id": "02f0b65b",
   "metadata": {},
   "source": [
    "scipy.stats.ttest_1samp calculates the t test for the mean of one sample given the sample observations and the expected value in the null hypothesis. This function returns t statistic and the two-tailed p value. Here we will need answer in one tailed p value and that too"
   ]
  },
  {
   "cell_type": "code",
   "execution_count": 40,
   "id": "d0b2d7ab",
   "metadata": {},
   "outputs": [
    {
     "name": "stdout",
     "output_type": "stream",
     "text": [
      "One sample t test \n",
      "t statistic: [-4.1646296  -1.22891066] p value: [8.34257399e-05 2.22998968e-01] \n"
     ]
    }
   ],
   "source": [
    "# one sample t-test\n",
    "# null hypothesis: expected value = 150\n",
    "t_statistic, p_value = ttest_1samp(d2, 150)\n",
    "print('One sample t test \\nt statistic: {0} p value: {1} '.format(t_statistic, p_value))"
   ]
  },
  {
   "cell_type": "code",
   "execution_count": 41,
   "id": "02ab4d10",
   "metadata": {},
   "outputs": [
    {
     "data": {
      "text/plain": [
       "4.171286995e-05"
      ]
     },
     "execution_count": 41,
     "metadata": {},
     "output_type": "execute_result"
    }
   ],
   "source": [
    "#p-value/2\n",
    "8.34257399e-05/2"
   ]
  },
  {
   "cell_type": "markdown",
   "id": "f427bc43",
   "metadata": {},
   "source": [
    "So here for unpolished stones t statistic=-4.1 and p value for unploished stones is 4.171286995e-05"
   ]
  },
  {
   "cell_type": "markdown",
   "id": "0f098563",
   "metadata": {},
   "source": [
    "Step 5 Decide to reject or accept null hypothesis Level of significance: 0.05"
   ]
  },
  {
   "cell_type": "markdown",
   "id": "3483c172",
   "metadata": {},
   "source": [
    "We reject the null hypothesis since p value < Level of significance"
   ]
  },
  {
   "cell_type": "markdown",
   "id": "36c680aa",
   "metadata": {},
   "source": [
    "So the statistical decision is we reject the null hypothesis at 5% level of significance."
   ]
  },
  {
   "cell_type": "markdown",
   "id": "06c256d8",
   "metadata": {},
   "source": [
    "It means that there is sufficient evidence for Zingaro stone printing company to believe that unpolished stones are not suitable for printing, that is they have Brinell’s hardness index of less than 150."
   ]
  },
  {
   "cell_type": "markdown",
   "id": "e06b2213",
   "metadata": {},
   "source": [
    "5.2 Is the mean hardness of the polished and unpolished stones the same?"
   ]
  },
  {
   "cell_type": "code",
   "execution_count": 42,
   "id": "ff030c7e",
   "metadata": {},
   "outputs": [
    {
     "data": {
      "text/plain": [
       "147.78811718133335"
      ]
     },
     "execution_count": 42,
     "metadata": {},
     "output_type": "execute_result"
    }
   ],
   "source": [
    "d2['Treated and Polished'].mean()"
   ]
  },
  {
   "cell_type": "code",
   "execution_count": 43,
   "id": "499247c8",
   "metadata": {},
   "outputs": [
    {
     "data": {
      "text/plain": [
       "134.11052653373332"
      ]
     },
     "execution_count": 43,
     "metadata": {},
     "output_type": "execute_result"
    }
   ],
   "source": [
    "d2['Unpolished '].mean()"
   ]
  },
  {
   "cell_type": "markdown",
   "id": "046dff40",
   "metadata": {},
   "source": [
    "Mean for Unpolished is 134.11 and for Treated and Polished is 147.79. Therefore, the mean is not same"
   ]
  },
  {
   "cell_type": "markdown",
   "id": "940d6e3b",
   "metadata": {},
   "source": [
    "Problem 6:\n",
    "\n",
    "Aquarius health club, one of the largest and most popular cross-fit gyms in the country has been advertising a rigorous program for body conditioning. The program is considered successful if the candidate is able to do more than 5 push-ups, as compared to when he/she enrolled in the program. Using the sample data provided can you conclude whether the program is successful? (Consider the level of Significance as 5%)\n",
    "\n",
    "Note that this is a problem of the paired-t-test. Since the claim is that the training will make a difference of more than 5, the null and alternative hypotheses must be formed accordingly."
   ]
  },
  {
   "cell_type": "code",
   "execution_count": 44,
   "id": "8ab4be9c",
   "metadata": {},
   "outputs": [],
   "source": [
    "d1=pd.read_csv('Aquarius_gym.csv')"
   ]
  },
  {
   "cell_type": "code",
   "execution_count": 45,
   "id": "e2ddec4f",
   "metadata": {},
   "outputs": [
    {
     "data": {
      "text/plain": [
       "(100, 3)"
      ]
     },
     "execution_count": 45,
     "metadata": {},
     "output_type": "execute_result"
    }
   ],
   "source": [
    "d1.shape"
   ]
  },
  {
   "cell_type": "code",
   "execution_count": 46,
   "id": "5335686f",
   "metadata": {},
   "outputs": [
    {
     "data": {
      "text/html": [
       "<div>\n",
       "<style scoped>\n",
       "    .dataframe tbody tr th:only-of-type {\n",
       "        vertical-align: middle;\n",
       "    }\n",
       "\n",
       "    .dataframe tbody tr th {\n",
       "        vertical-align: top;\n",
       "    }\n",
       "\n",
       "    .dataframe thead th {\n",
       "        text-align: right;\n",
       "    }\n",
       "</style>\n",
       "<table border=\"1\" class=\"dataframe\">\n",
       "  <thead>\n",
       "    <tr style=\"text-align: right;\">\n",
       "      <th></th>\n",
       "      <th>Sr no.</th>\n",
       "      <th>Before</th>\n",
       "      <th>After</th>\n",
       "    </tr>\n",
       "  </thead>\n",
       "  <tbody>\n",
       "    <tr>\n",
       "      <th>0</th>\n",
       "      <td>1</td>\n",
       "      <td>39</td>\n",
       "      <td>44</td>\n",
       "    </tr>\n",
       "    <tr>\n",
       "      <th>1</th>\n",
       "      <td>2</td>\n",
       "      <td>25</td>\n",
       "      <td>25</td>\n",
       "    </tr>\n",
       "    <tr>\n",
       "      <th>2</th>\n",
       "      <td>3</td>\n",
       "      <td>39</td>\n",
       "      <td>39</td>\n",
       "    </tr>\n",
       "    <tr>\n",
       "      <th>3</th>\n",
       "      <td>4</td>\n",
       "      <td>6</td>\n",
       "      <td>13</td>\n",
       "    </tr>\n",
       "    <tr>\n",
       "      <th>4</th>\n",
       "      <td>5</td>\n",
       "      <td>40</td>\n",
       "      <td>44</td>\n",
       "    </tr>\n",
       "  </tbody>\n",
       "</table>\n",
       "</div>"
      ],
      "text/plain": [
       "   Sr no.  Before  After\n",
       "0       1      39     44\n",
       "1       2      25     25\n",
       "2       3      39     39\n",
       "3       4       6     13\n",
       "4       5      40     44"
      ]
     },
     "execution_count": 46,
     "metadata": {},
     "output_type": "execute_result"
    }
   ],
   "source": [
    "d1.head()"
   ]
  },
  {
   "cell_type": "code",
   "execution_count": 47,
   "id": "ef5f5a08",
   "metadata": {},
   "outputs": [
    {
     "name": "stdout",
     "output_type": "stream",
     "text": [
      "<class 'pandas.core.frame.DataFrame'>\n",
      "RangeIndex: 100 entries, 0 to 99\n",
      "Data columns (total 3 columns):\n",
      " #   Column  Non-Null Count  Dtype\n",
      "---  ------  --------------  -----\n",
      " 0   Sr no.  100 non-null    int64\n",
      " 1   Before  100 non-null    int64\n",
      " 2   After   100 non-null    int64\n",
      "dtypes: int64(3)\n",
      "memory usage: 2.5 KB\n"
     ]
    }
   ],
   "source": [
    "d1.info()"
   ]
  },
  {
   "cell_type": "code",
   "execution_count": 48,
   "id": "2ff29a47",
   "metadata": {},
   "outputs": [
    {
     "data": {
      "text/html": [
       "<div>\n",
       "<style scoped>\n",
       "    .dataframe tbody tr th:only-of-type {\n",
       "        vertical-align: middle;\n",
       "    }\n",
       "\n",
       "    .dataframe tbody tr th {\n",
       "        vertical-align: top;\n",
       "    }\n",
       "\n",
       "    .dataframe thead th {\n",
       "        text-align: right;\n",
       "    }\n",
       "</style>\n",
       "<table border=\"1\" class=\"dataframe\">\n",
       "  <thead>\n",
       "    <tr style=\"text-align: right;\">\n",
       "      <th></th>\n",
       "      <th>Sr no.</th>\n",
       "      <th>Before</th>\n",
       "      <th>After</th>\n",
       "    </tr>\n",
       "  </thead>\n",
       "  <tbody>\n",
       "    <tr>\n",
       "      <th>count</th>\n",
       "      <td>100.000000</td>\n",
       "      <td>100.000000</td>\n",
       "      <td>100.000000</td>\n",
       "    </tr>\n",
       "    <tr>\n",
       "      <th>mean</th>\n",
       "      <td>50.500000</td>\n",
       "      <td>26.940000</td>\n",
       "      <td>32.490000</td>\n",
       "    </tr>\n",
       "    <tr>\n",
       "      <th>std</th>\n",
       "      <td>29.011492</td>\n",
       "      <td>8.806357</td>\n",
       "      <td>8.779562</td>\n",
       "    </tr>\n",
       "    <tr>\n",
       "      <th>min</th>\n",
       "      <td>1.000000</td>\n",
       "      <td>3.000000</td>\n",
       "      <td>10.000000</td>\n",
       "    </tr>\n",
       "    <tr>\n",
       "      <th>25%</th>\n",
       "      <td>25.750000</td>\n",
       "      <td>21.750000</td>\n",
       "      <td>26.000000</td>\n",
       "    </tr>\n",
       "    <tr>\n",
       "      <th>50%</th>\n",
       "      <td>50.500000</td>\n",
       "      <td>28.000000</td>\n",
       "      <td>34.000000</td>\n",
       "    </tr>\n",
       "    <tr>\n",
       "      <th>75%</th>\n",
       "      <td>75.250000</td>\n",
       "      <td>32.250000</td>\n",
       "      <td>39.000000</td>\n",
       "    </tr>\n",
       "    <tr>\n",
       "      <th>max</th>\n",
       "      <td>100.000000</td>\n",
       "      <td>47.000000</td>\n",
       "      <td>51.000000</td>\n",
       "    </tr>\n",
       "  </tbody>\n",
       "</table>\n",
       "</div>"
      ],
      "text/plain": [
       "           Sr no.      Before       After\n",
       "count  100.000000  100.000000  100.000000\n",
       "mean    50.500000   26.940000   32.490000\n",
       "std     29.011492    8.806357    8.779562\n",
       "min      1.000000    3.000000   10.000000\n",
       "25%     25.750000   21.750000   26.000000\n",
       "50%     50.500000   28.000000   34.000000\n",
       "75%     75.250000   32.250000   39.000000\n",
       "max    100.000000   47.000000   51.000000"
      ]
     },
     "execution_count": 48,
     "metadata": {},
     "output_type": "execute_result"
    }
   ],
   "source": [
    "d1.describe()"
   ]
  },
  {
   "cell_type": "code",
   "execution_count": 49,
   "id": "d25cf1ba",
   "metadata": {},
   "outputs": [
    {
     "data": {
      "text/plain": [
       "Sr no.    0\n",
       "Before    0\n",
       "After     0\n",
       "dtype: int64"
      ]
     },
     "execution_count": 49,
     "metadata": {},
     "output_type": "execute_result"
    }
   ],
   "source": [
    "d1.isnull().sum()"
   ]
  },
  {
   "cell_type": "markdown",
   "id": "d14d2614",
   "metadata": {},
   "source": [
    "Step 1: Define null and alternative hypotheses"
   ]
  },
  {
   "cell_type": "markdown",
   "id": "a82027bc",
   "metadata": {},
   "source": [
    "In testing whether the program is successfull or not which is defined if the candidate is able to do more than 5 push ups as compared to when he or she joined the program.\n",
    "\n",
    "Here u1 is the count of push ups after joining the program.\n",
    "\n",
    "u2 is the count of push ups before joining the program.\n",
    "\n",
    "the null hypothesis states that the difference after joining the program push up counts has increased to more than 5.\n",
    "\n",
    "the alternate hypothesis states that after joining the program push up count has not increased to more than 5.\n",
    "\n",
    "𝐻o : u1-u2 < 5\n",
    "\n",
    "𝐻a : u1 - u2 >5"
   ]
  },
  {
   "cell_type": "markdown",
   "id": "94f98b94",
   "metadata": {},
   "source": [
    "Step 2: Decide the significance level"
   ]
  },
  {
   "cell_type": "markdown",
   "id": "93da1c9b",
   "metadata": {},
   "source": [
    "Here we select  𝛼\n",
    "  = 0.05 and the population standard deviation is not known."
   ]
  },
  {
   "cell_type": "markdown",
   "id": "6a0009a2",
   "metadata": {},
   "source": [
    "Step 3: Identify the test statistic"
   ]
  },
  {
   "cell_type": "markdown",
   "id": "98bf38e9",
   "metadata": {},
   "source": [
    "We have two samples and we do not know the population standard deviation."
   ]
  },
  {
   "cell_type": "markdown",
   "id": "a75568b2",
   "metadata": {},
   "source": [
    "Sample sizes for both samples are same."
   ]
  },
  {
   "cell_type": "markdown",
   "id": "1db8aa85",
   "metadata": {},
   "source": [
    "We you use the t distribution and the  𝑡𝑆𝑇𝐴𝑇\n",
    "  test statistic for two sample unpaired test."
   ]
  },
  {
   "cell_type": "markdown",
   "id": "cdee25f9",
   "metadata": {},
   "source": [
    "Step 4: Calculate the p - value and test statistic"
   ]
  },
  {
   "cell_type": "code",
   "execution_count": 50,
   "id": "6f5748bd",
   "metadata": {},
   "outputs": [
    {
     "name": "stdout",
     "output_type": "stream",
     "text": [
      "19.322619811082458 2.2920419252511966e-35\n"
     ]
    }
   ],
   "source": [
    "t_stat, p_value1  = stats.ttest_rel(d1['After'],d1['Before'])  #Performing a paired t-test\n",
    "print(t_stat, p_value1) #Python gives us a two tailed test. The pvalue here is for two-tailed test."
   ]
  },
  {
   "cell_type": "code",
   "execution_count": 51,
   "id": "4bb11b32",
   "metadata": {},
   "outputs": [
    {
     "data": {
      "text/plain": [
       "1.1460209626255983e-35"
      ]
     },
     "execution_count": 51,
     "metadata": {},
     "output_type": "execute_result"
    }
   ],
   "source": [
    "#The following is the pvalue for a one-tailed test.\n",
    "(p_value1/2)"
   ]
  },
  {
   "cell_type": "code",
   "execution_count": 52,
   "id": "8d9c019b",
   "metadata": {},
   "outputs": [
    {
     "name": "stdout",
     "output_type": "stream",
     "text": [
      "The T statistic is: 19.322619811082458 \n",
      "The corresponding pvalue is : 1.1460209626255983e-35\n"
     ]
    }
   ],
   "source": [
    "print ('The T statistic is:',t_stat,'\\n''The corresponding pvalue is :',(p_value1/2))"
   ]
  },
  {
   "cell_type": "markdown",
   "id": "23f0c52a",
   "metadata": {},
   "source": [
    "Step 5: Decide to reject or accept null hypothesis"
   ]
  },
  {
   "cell_type": "code",
   "execution_count": 53,
   "id": "559e8f60",
   "metadata": {},
   "outputs": [
    {
     "name": "stdout",
     "output_type": "stream",
     "text": [
      "Paired two-sample t-test p-value= [4.17128700e-05 1.11499484e-01]\n",
      "We have enough evidence to reject the null hypothesis in favour of alternative hypothesis\n"
     ]
    }
   ],
   "source": [
    "# p_value < 0.05 => alternative hypothesis:\n",
    "# they don't have the same mean at the 5% significance level\n",
    "print (\"Paired two-sample t-test p-value=\", p_value/2)\n",
    "\n",
    "alpha_level = 0.05\n",
    "\n",
    "if (p_value1/2) < alpha_level:\n",
    "    print('We have enough evidence to reject the null hypothesis in favour of alternative hypothesis')\n",
    "    \n",
    "else:\n",
    "    print('We do not have enough evidence to reject the null hypothesis in favour of alternative hypothesis')\n",
    "    "
   ]
  },
  {
   "cell_type": "markdown",
   "id": "fb3773cc",
   "metadata": {},
   "source": [
    "Problem 7:\n",
    "\n",
    "Dental implant data: The hardness of metal implant in dental cavities depends on multiple factors, such as the method of implant, the temperature at which the metal is treated, the alloy used as well as on the dentists who may favour one method above another and may work better in his/her favourite method. The response is the variable of interest."
   ]
  },
  {
   "cell_type": "code",
   "execution_count": 54,
   "id": "8cb2559c",
   "metadata": {},
   "outputs": [],
   "source": [
    "d3=pd.read_excel('Dental Hardness data.xlsx')"
   ]
  },
  {
   "cell_type": "code",
   "execution_count": 55,
   "id": "def504c2",
   "metadata": {},
   "outputs": [
    {
     "data": {
      "text/plain": [
       "(107, 14)"
      ]
     },
     "execution_count": 55,
     "metadata": {},
     "output_type": "execute_result"
    }
   ],
   "source": [
    "d3.shape"
   ]
  },
  {
   "cell_type": "code",
   "execution_count": 56,
   "id": "729b8f5b",
   "metadata": {},
   "outputs": [
    {
     "data": {
      "text/html": [
       "<div>\n",
       "<style scoped>\n",
       "    .dataframe tbody tr th:only-of-type {\n",
       "        vertical-align: middle;\n",
       "    }\n",
       "\n",
       "    .dataframe tbody tr th {\n",
       "        vertical-align: top;\n",
       "    }\n",
       "\n",
       "    .dataframe thead th {\n",
       "        text-align: right;\n",
       "    }\n",
       "</style>\n",
       "<table border=\"1\" class=\"dataframe\">\n",
       "  <thead>\n",
       "    <tr style=\"text-align: right;\">\n",
       "      <th></th>\n",
       "      <th>Dentist</th>\n",
       "      <th>Method</th>\n",
       "      <th>Alloy</th>\n",
       "      <th>Temp</th>\n",
       "      <th>Response</th>\n",
       "      <th>Unnamed: 5</th>\n",
       "      <th>Unnamed: 6</th>\n",
       "      <th>Unnamed: 7</th>\n",
       "      <th>Unnamed: 8</th>\n",
       "      <th>Unnamed: 9</th>\n",
       "      <th>Unnamed: 10</th>\n",
       "      <th>Unnamed: 11</th>\n",
       "      <th>Unnamed: 12</th>\n",
       "      <th>Unnamed: 13</th>\n",
       "    </tr>\n",
       "  </thead>\n",
       "  <tbody>\n",
       "    <tr>\n",
       "      <th>0</th>\n",
       "      <td>1.0</td>\n",
       "      <td>1.0</td>\n",
       "      <td>1.0</td>\n",
       "      <td>1500.0</td>\n",
       "      <td>813.0</td>\n",
       "      <td>NaN</td>\n",
       "      <td>NaN</td>\n",
       "      <td>Anova: Two-Factor Without Replication</td>\n",
       "      <td>NaN</td>\n",
       "      <td>NaN</td>\n",
       "      <td>NaN</td>\n",
       "      <td>NaN</td>\n",
       "      <td>NaN</td>\n",
       "      <td>NaN</td>\n",
       "    </tr>\n",
       "    <tr>\n",
       "      <th>1</th>\n",
       "      <td>1.0</td>\n",
       "      <td>1.0</td>\n",
       "      <td>1.0</td>\n",
       "      <td>1600.0</td>\n",
       "      <td>792.0</td>\n",
       "      <td>NaN</td>\n",
       "      <td>NaN</td>\n",
       "      <td>NaN</td>\n",
       "      <td>NaN</td>\n",
       "      <td>NaN</td>\n",
       "      <td>NaN</td>\n",
       "      <td>NaN</td>\n",
       "      <td>NaN</td>\n",
       "      <td>NaN</td>\n",
       "    </tr>\n",
       "    <tr>\n",
       "      <th>2</th>\n",
       "      <td>1.0</td>\n",
       "      <td>1.0</td>\n",
       "      <td>1.0</td>\n",
       "      <td>1700.0</td>\n",
       "      <td>792.0</td>\n",
       "      <td>NaN</td>\n",
       "      <td>NaN</td>\n",
       "      <td>SUMMARY</td>\n",
       "      <td>Count</td>\n",
       "      <td>Sum</td>\n",
       "      <td>Average</td>\n",
       "      <td>Variance</td>\n",
       "      <td>NaN</td>\n",
       "      <td>NaN</td>\n",
       "    </tr>\n",
       "    <tr>\n",
       "      <th>3</th>\n",
       "      <td>1.0</td>\n",
       "      <td>1.0</td>\n",
       "      <td>2.0</td>\n",
       "      <td>1500.0</td>\n",
       "      <td>907.0</td>\n",
       "      <td>NaN</td>\n",
       "      <td>NaN</td>\n",
       "      <td>1</td>\n",
       "      <td>4</td>\n",
       "      <td>2315</td>\n",
       "      <td>578.75</td>\n",
       "      <td>523721.583333</td>\n",
       "      <td>NaN</td>\n",
       "      <td>NaN</td>\n",
       "    </tr>\n",
       "    <tr>\n",
       "      <th>4</th>\n",
       "      <td>1.0</td>\n",
       "      <td>1.0</td>\n",
       "      <td>2.0</td>\n",
       "      <td>1600.0</td>\n",
       "      <td>792.0</td>\n",
       "      <td>NaN</td>\n",
       "      <td>NaN</td>\n",
       "      <td>1</td>\n",
       "      <td>4</td>\n",
       "      <td>2394</td>\n",
       "      <td>598.5</td>\n",
       "      <td>584819</td>\n",
       "      <td>NaN</td>\n",
       "      <td>NaN</td>\n",
       "    </tr>\n",
       "  </tbody>\n",
       "</table>\n",
       "</div>"
      ],
      "text/plain": [
       "   Dentist  Method  Alloy    Temp  Response  Unnamed: 5  Unnamed: 6  \\\n",
       "0      1.0     1.0    1.0  1500.0     813.0         NaN         NaN   \n",
       "1      1.0     1.0    1.0  1600.0     792.0         NaN         NaN   \n",
       "2      1.0     1.0    1.0  1700.0     792.0         NaN         NaN   \n",
       "3      1.0     1.0    2.0  1500.0     907.0         NaN         NaN   \n",
       "4      1.0     1.0    2.0  1600.0     792.0         NaN         NaN   \n",
       "\n",
       "                              Unnamed: 7 Unnamed: 8 Unnamed: 9 Unnamed: 10  \\\n",
       "0  Anova: Two-Factor Without Replication        NaN        NaN         NaN   \n",
       "1                                    NaN        NaN        NaN         NaN   \n",
       "2                                SUMMARY      Count        Sum     Average   \n",
       "3                                      1          4       2315      578.75   \n",
       "4                                      1          4       2394       598.5   \n",
       "\n",
       "     Unnamed: 11 Unnamed: 12 Unnamed: 13  \n",
       "0            NaN         NaN         NaN  \n",
       "1            NaN         NaN         NaN  \n",
       "2       Variance         NaN         NaN  \n",
       "3  523721.583333         NaN         NaN  \n",
       "4         584819         NaN         NaN  "
      ]
     },
     "execution_count": 56,
     "metadata": {},
     "output_type": "execute_result"
    }
   ],
   "source": [
    "d3.head()"
   ]
  },
  {
   "cell_type": "code",
   "execution_count": 57,
   "id": "be055b6b",
   "metadata": {},
   "outputs": [],
   "source": [
    "d3.drop(['Unnamed: 5','Unnamed: 6','Unnamed: 7','Unnamed: 8','Unnamed: 9','Unnamed: 10','Unnamed: 11','Unnamed: 12','Unnamed: 13'],axis=1,inplace=True)"
   ]
  },
  {
   "cell_type": "code",
   "execution_count": 58,
   "id": "9a3d7293",
   "metadata": {},
   "outputs": [
    {
     "data": {
      "text/html": [
       "<div>\n",
       "<style scoped>\n",
       "    .dataframe tbody tr th:only-of-type {\n",
       "        vertical-align: middle;\n",
       "    }\n",
       "\n",
       "    .dataframe tbody tr th {\n",
       "        vertical-align: top;\n",
       "    }\n",
       "\n",
       "    .dataframe thead th {\n",
       "        text-align: right;\n",
       "    }\n",
       "</style>\n",
       "<table border=\"1\" class=\"dataframe\">\n",
       "  <thead>\n",
       "    <tr style=\"text-align: right;\">\n",
       "      <th></th>\n",
       "      <th>Dentist</th>\n",
       "      <th>Method</th>\n",
       "      <th>Alloy</th>\n",
       "      <th>Temp</th>\n",
       "      <th>Response</th>\n",
       "    </tr>\n",
       "  </thead>\n",
       "  <tbody>\n",
       "    <tr>\n",
       "      <th>0</th>\n",
       "      <td>1.0</td>\n",
       "      <td>1.0</td>\n",
       "      <td>1.0</td>\n",
       "      <td>1500.0</td>\n",
       "      <td>813.0</td>\n",
       "    </tr>\n",
       "    <tr>\n",
       "      <th>1</th>\n",
       "      <td>1.0</td>\n",
       "      <td>1.0</td>\n",
       "      <td>1.0</td>\n",
       "      <td>1600.0</td>\n",
       "      <td>792.0</td>\n",
       "    </tr>\n",
       "    <tr>\n",
       "      <th>2</th>\n",
       "      <td>1.0</td>\n",
       "      <td>1.0</td>\n",
       "      <td>1.0</td>\n",
       "      <td>1700.0</td>\n",
       "      <td>792.0</td>\n",
       "    </tr>\n",
       "    <tr>\n",
       "      <th>3</th>\n",
       "      <td>1.0</td>\n",
       "      <td>1.0</td>\n",
       "      <td>2.0</td>\n",
       "      <td>1500.0</td>\n",
       "      <td>907.0</td>\n",
       "    </tr>\n",
       "    <tr>\n",
       "      <th>4</th>\n",
       "      <td>1.0</td>\n",
       "      <td>1.0</td>\n",
       "      <td>2.0</td>\n",
       "      <td>1600.0</td>\n",
       "      <td>792.0</td>\n",
       "    </tr>\n",
       "  </tbody>\n",
       "</table>\n",
       "</div>"
      ],
      "text/plain": [
       "   Dentist  Method  Alloy    Temp  Response\n",
       "0      1.0     1.0    1.0  1500.0     813.0\n",
       "1      1.0     1.0    1.0  1600.0     792.0\n",
       "2      1.0     1.0    1.0  1700.0     792.0\n",
       "3      1.0     1.0    2.0  1500.0     907.0\n",
       "4      1.0     1.0    2.0  1600.0     792.0"
      ]
     },
     "execution_count": 58,
     "metadata": {},
     "output_type": "execute_result"
    }
   ],
   "source": [
    "d3.head()"
   ]
  },
  {
   "cell_type": "code",
   "execution_count": 59,
   "id": "9ee539c8",
   "metadata": {},
   "outputs": [
    {
     "data": {
      "text/html": [
       "<div>\n",
       "<style scoped>\n",
       "    .dataframe tbody tr th:only-of-type {\n",
       "        vertical-align: middle;\n",
       "    }\n",
       "\n",
       "    .dataframe tbody tr th {\n",
       "        vertical-align: top;\n",
       "    }\n",
       "\n",
       "    .dataframe thead th {\n",
       "        text-align: right;\n",
       "    }\n",
       "</style>\n",
       "<table border=\"1\" class=\"dataframe\">\n",
       "  <thead>\n",
       "    <tr style=\"text-align: right;\">\n",
       "      <th></th>\n",
       "      <th>Dentist</th>\n",
       "      <th>Method</th>\n",
       "      <th>Alloy</th>\n",
       "      <th>Temp</th>\n",
       "      <th>Response</th>\n",
       "    </tr>\n",
       "  </thead>\n",
       "  <tbody>\n",
       "    <tr>\n",
       "      <th>87</th>\n",
       "      <td>5.0</td>\n",
       "      <td>3.0</td>\n",
       "      <td>2.0</td>\n",
       "      <td>1500.0</td>\n",
       "      <td>536.0</td>\n",
       "    </tr>\n",
       "    <tr>\n",
       "      <th>88</th>\n",
       "      <td>5.0</td>\n",
       "      <td>3.0</td>\n",
       "      <td>2.0</td>\n",
       "      <td>1600.0</td>\n",
       "      <td>405.0</td>\n",
       "    </tr>\n",
       "    <tr>\n",
       "      <th>89</th>\n",
       "      <td>5.0</td>\n",
       "      <td>3.0</td>\n",
       "      <td>2.0</td>\n",
       "      <td>1700.0</td>\n",
       "      <td>312.0</td>\n",
       "    </tr>\n",
       "    <tr>\n",
       "      <th>90</th>\n",
       "      <td>NaN</td>\n",
       "      <td>NaN</td>\n",
       "      <td>NaN</td>\n",
       "      <td>NaN</td>\n",
       "      <td>NaN</td>\n",
       "    </tr>\n",
       "    <tr>\n",
       "      <th>91</th>\n",
       "      <td>NaN</td>\n",
       "      <td>NaN</td>\n",
       "      <td>NaN</td>\n",
       "      <td>NaN</td>\n",
       "      <td>NaN</td>\n",
       "    </tr>\n",
       "    <tr>\n",
       "      <th>92</th>\n",
       "      <td>NaN</td>\n",
       "      <td>NaN</td>\n",
       "      <td>NaN</td>\n",
       "      <td>NaN</td>\n",
       "      <td>NaN</td>\n",
       "    </tr>\n",
       "    <tr>\n",
       "      <th>93</th>\n",
       "      <td>NaN</td>\n",
       "      <td>NaN</td>\n",
       "      <td>NaN</td>\n",
       "      <td>NaN</td>\n",
       "      <td>NaN</td>\n",
       "    </tr>\n",
       "    <tr>\n",
       "      <th>94</th>\n",
       "      <td>NaN</td>\n",
       "      <td>NaN</td>\n",
       "      <td>NaN</td>\n",
       "      <td>NaN</td>\n",
       "      <td>NaN</td>\n",
       "    </tr>\n",
       "    <tr>\n",
       "      <th>95</th>\n",
       "      <td>NaN</td>\n",
       "      <td>NaN</td>\n",
       "      <td>NaN</td>\n",
       "      <td>NaN</td>\n",
       "      <td>NaN</td>\n",
       "    </tr>\n",
       "    <tr>\n",
       "      <th>96</th>\n",
       "      <td>NaN</td>\n",
       "      <td>NaN</td>\n",
       "      <td>NaN</td>\n",
       "      <td>NaN</td>\n",
       "      <td>NaN</td>\n",
       "    </tr>\n",
       "    <tr>\n",
       "      <th>97</th>\n",
       "      <td>NaN</td>\n",
       "      <td>NaN</td>\n",
       "      <td>NaN</td>\n",
       "      <td>NaN</td>\n",
       "      <td>NaN</td>\n",
       "    </tr>\n",
       "    <tr>\n",
       "      <th>98</th>\n",
       "      <td>NaN</td>\n",
       "      <td>NaN</td>\n",
       "      <td>NaN</td>\n",
       "      <td>NaN</td>\n",
       "      <td>NaN</td>\n",
       "    </tr>\n",
       "    <tr>\n",
       "      <th>99</th>\n",
       "      <td>NaN</td>\n",
       "      <td>NaN</td>\n",
       "      <td>NaN</td>\n",
       "      <td>NaN</td>\n",
       "      <td>NaN</td>\n",
       "    </tr>\n",
       "    <tr>\n",
       "      <th>100</th>\n",
       "      <td>NaN</td>\n",
       "      <td>NaN</td>\n",
       "      <td>NaN</td>\n",
       "      <td>NaN</td>\n",
       "      <td>NaN</td>\n",
       "    </tr>\n",
       "    <tr>\n",
       "      <th>101</th>\n",
       "      <td>NaN</td>\n",
       "      <td>NaN</td>\n",
       "      <td>NaN</td>\n",
       "      <td>NaN</td>\n",
       "      <td>NaN</td>\n",
       "    </tr>\n",
       "    <tr>\n",
       "      <th>102</th>\n",
       "      <td>NaN</td>\n",
       "      <td>NaN</td>\n",
       "      <td>NaN</td>\n",
       "      <td>NaN</td>\n",
       "      <td>NaN</td>\n",
       "    </tr>\n",
       "    <tr>\n",
       "      <th>103</th>\n",
       "      <td>NaN</td>\n",
       "      <td>NaN</td>\n",
       "      <td>NaN</td>\n",
       "      <td>NaN</td>\n",
       "      <td>NaN</td>\n",
       "    </tr>\n",
       "    <tr>\n",
       "      <th>104</th>\n",
       "      <td>NaN</td>\n",
       "      <td>NaN</td>\n",
       "      <td>NaN</td>\n",
       "      <td>NaN</td>\n",
       "      <td>NaN</td>\n",
       "    </tr>\n",
       "    <tr>\n",
       "      <th>105</th>\n",
       "      <td>NaN</td>\n",
       "      <td>NaN</td>\n",
       "      <td>NaN</td>\n",
       "      <td>NaN</td>\n",
       "      <td>NaN</td>\n",
       "    </tr>\n",
       "    <tr>\n",
       "      <th>106</th>\n",
       "      <td>NaN</td>\n",
       "      <td>NaN</td>\n",
       "      <td>NaN</td>\n",
       "      <td>NaN</td>\n",
       "      <td>NaN</td>\n",
       "    </tr>\n",
       "  </tbody>\n",
       "</table>\n",
       "</div>"
      ],
      "text/plain": [
       "     Dentist  Method  Alloy    Temp  Response\n",
       "87       5.0     3.0    2.0  1500.0     536.0\n",
       "88       5.0     3.0    2.0  1600.0     405.0\n",
       "89       5.0     3.0    2.0  1700.0     312.0\n",
       "90       NaN     NaN    NaN     NaN       NaN\n",
       "91       NaN     NaN    NaN     NaN       NaN\n",
       "92       NaN     NaN    NaN     NaN       NaN\n",
       "93       NaN     NaN    NaN     NaN       NaN\n",
       "94       NaN     NaN    NaN     NaN       NaN\n",
       "95       NaN     NaN    NaN     NaN       NaN\n",
       "96       NaN     NaN    NaN     NaN       NaN\n",
       "97       NaN     NaN    NaN     NaN       NaN\n",
       "98       NaN     NaN    NaN     NaN       NaN\n",
       "99       NaN     NaN    NaN     NaN       NaN\n",
       "100      NaN     NaN    NaN     NaN       NaN\n",
       "101      NaN     NaN    NaN     NaN       NaN\n",
       "102      NaN     NaN    NaN     NaN       NaN\n",
       "103      NaN     NaN    NaN     NaN       NaN\n",
       "104      NaN     NaN    NaN     NaN       NaN\n",
       "105      NaN     NaN    NaN     NaN       NaN\n",
       "106      NaN     NaN    NaN     NaN       NaN"
      ]
     },
     "execution_count": 59,
     "metadata": {},
     "output_type": "execute_result"
    }
   ],
   "source": [
    "d3.tail(20)"
   ]
  },
  {
   "cell_type": "code",
   "execution_count": 60,
   "id": "233a51d3",
   "metadata": {},
   "outputs": [],
   "source": [
    "d3.drop(d3.index[90:],inplace=True)"
   ]
  },
  {
   "cell_type": "code",
   "execution_count": 61,
   "id": "163c1624",
   "metadata": {},
   "outputs": [
    {
     "data": {
      "text/plain": [
       "(90, 5)"
      ]
     },
     "execution_count": 61,
     "metadata": {},
     "output_type": "execute_result"
    }
   ],
   "source": [
    "d3.shape"
   ]
  },
  {
   "cell_type": "code",
   "execution_count": 62,
   "id": "9714eeac",
   "metadata": {},
   "outputs": [
    {
     "name": "stdout",
     "output_type": "stream",
     "text": [
      "<class 'pandas.core.frame.DataFrame'>\n",
      "RangeIndex: 90 entries, 0 to 89\n",
      "Data columns (total 5 columns):\n",
      " #   Column    Non-Null Count  Dtype  \n",
      "---  ------    --------------  -----  \n",
      " 0   Dentist   90 non-null     float64\n",
      " 1   Method    90 non-null     float64\n",
      " 2   Alloy     90 non-null     float64\n",
      " 3   Temp      90 non-null     float64\n",
      " 4   Response  90 non-null     float64\n",
      "dtypes: float64(5)\n",
      "memory usage: 3.6 KB\n"
     ]
    }
   ],
   "source": [
    "d3.info()"
   ]
  },
  {
   "cell_type": "markdown",
   "id": "ebf9f8ad",
   "metadata": {},
   "source": [
    "Same number of samples in all group"
   ]
  },
  {
   "cell_type": "code",
   "execution_count": 63,
   "id": "1c531c34",
   "metadata": {},
   "outputs": [
    {
     "data": {
      "text/html": [
       "<div>\n",
       "<style scoped>\n",
       "    .dataframe tbody tr th:only-of-type {\n",
       "        vertical-align: middle;\n",
       "    }\n",
       "\n",
       "    .dataframe tbody tr th {\n",
       "        vertical-align: top;\n",
       "    }\n",
       "\n",
       "    .dataframe thead th {\n",
       "        text-align: right;\n",
       "    }\n",
       "</style>\n",
       "<table border=\"1\" class=\"dataframe\">\n",
       "  <thead>\n",
       "    <tr style=\"text-align: right;\">\n",
       "      <th></th>\n",
       "      <th>count</th>\n",
       "      <th>mean</th>\n",
       "      <th>std</th>\n",
       "      <th>min</th>\n",
       "      <th>25%</th>\n",
       "      <th>50%</th>\n",
       "      <th>75%</th>\n",
       "      <th>max</th>\n",
       "    </tr>\n",
       "  </thead>\n",
       "  <tbody>\n",
       "    <tr>\n",
       "      <th>Dentist</th>\n",
       "      <td>90.0</td>\n",
       "      <td>3.000000</td>\n",
       "      <td>1.422136</td>\n",
       "      <td>1.0</td>\n",
       "      <td>2.0</td>\n",
       "      <td>3.0</td>\n",
       "      <td>4.0</td>\n",
       "      <td>5.0</td>\n",
       "    </tr>\n",
       "    <tr>\n",
       "      <th>Method</th>\n",
       "      <td>90.0</td>\n",
       "      <td>2.000000</td>\n",
       "      <td>0.821071</td>\n",
       "      <td>1.0</td>\n",
       "      <td>1.0</td>\n",
       "      <td>2.0</td>\n",
       "      <td>3.0</td>\n",
       "      <td>3.0</td>\n",
       "    </tr>\n",
       "    <tr>\n",
       "      <th>Alloy</th>\n",
       "      <td>90.0</td>\n",
       "      <td>1.500000</td>\n",
       "      <td>0.502801</td>\n",
       "      <td>1.0</td>\n",
       "      <td>1.0</td>\n",
       "      <td>1.5</td>\n",
       "      <td>2.0</td>\n",
       "      <td>2.0</td>\n",
       "    </tr>\n",
       "    <tr>\n",
       "      <th>Temp</th>\n",
       "      <td>90.0</td>\n",
       "      <td>1600.000000</td>\n",
       "      <td>82.107083</td>\n",
       "      <td>1500.0</td>\n",
       "      <td>1500.0</td>\n",
       "      <td>1600.0</td>\n",
       "      <td>1700.0</td>\n",
       "      <td>1700.0</td>\n",
       "    </tr>\n",
       "    <tr>\n",
       "      <th>Response</th>\n",
       "      <td>90.0</td>\n",
       "      <td>741.777778</td>\n",
       "      <td>145.767845</td>\n",
       "      <td>289.0</td>\n",
       "      <td>698.0</td>\n",
       "      <td>767.0</td>\n",
       "      <td>824.0</td>\n",
       "      <td>1115.0</td>\n",
       "    </tr>\n",
       "  </tbody>\n",
       "</table>\n",
       "</div>"
      ],
      "text/plain": [
       "          count         mean         std     min     25%     50%     75%  \\\n",
       "Dentist    90.0     3.000000    1.422136     1.0     2.0     3.0     4.0   \n",
       "Method     90.0     2.000000    0.821071     1.0     1.0     2.0     3.0   \n",
       "Alloy      90.0     1.500000    0.502801     1.0     1.0     1.5     2.0   \n",
       "Temp       90.0  1600.000000   82.107083  1500.0  1500.0  1600.0  1700.0   \n",
       "Response   90.0   741.777778  145.767845   289.0   698.0   767.0   824.0   \n",
       "\n",
       "             max  \n",
       "Dentist      5.0  \n",
       "Method       3.0  \n",
       "Alloy        2.0  \n",
       "Temp      1700.0  \n",
       "Response  1115.0  "
      ]
     },
     "execution_count": 63,
     "metadata": {},
     "output_type": "execute_result"
    }
   ],
   "source": [
    "d3.describe(include='all').T"
   ]
  },
  {
   "cell_type": "code",
   "execution_count": 64,
   "id": "675df2a6",
   "metadata": {},
   "outputs": [
    {
     "data": {
      "text/plain": [
       "Dentist     0\n",
       "Method      0\n",
       "Alloy       0\n",
       "Temp        0\n",
       "Response    0\n",
       "dtype: int64"
      ]
     },
     "execution_count": 64,
     "metadata": {},
     "output_type": "execute_result"
    }
   ],
   "source": [
    "d3.isnull().sum()"
   ]
  },
  {
   "cell_type": "code",
   "execution_count": 65,
   "id": "54fdd11b",
   "metadata": {},
   "outputs": [
    {
     "data": {
      "text/plain": [
       "1.0    18\n",
       "2.0    18\n",
       "3.0    18\n",
       "4.0    18\n",
       "5.0    18\n",
       "Name: Dentist, dtype: int64"
      ]
     },
     "execution_count": 65,
     "metadata": {},
     "output_type": "execute_result"
    }
   ],
   "source": [
    "d3.Dentist.value_counts()"
   ]
  },
  {
   "cell_type": "code",
   "execution_count": 66,
   "id": "7d9dd577",
   "metadata": {},
   "outputs": [
    {
     "data": {
      "text/plain": [
       "1.0    30\n",
       "2.0    30\n",
       "3.0    30\n",
       "Name: Method, dtype: int64"
      ]
     },
     "execution_count": 66,
     "metadata": {},
     "output_type": "execute_result"
    }
   ],
   "source": [
    "d3.Method.value_counts()"
   ]
  },
  {
   "cell_type": "code",
   "execution_count": 67,
   "id": "7fd591b8",
   "metadata": {},
   "outputs": [
    {
     "data": {
      "text/plain": [
       "1.0    45\n",
       "2.0    45\n",
       "Name: Alloy, dtype: int64"
      ]
     },
     "execution_count": 67,
     "metadata": {},
     "output_type": "execute_result"
    }
   ],
   "source": [
    "d3.Alloy.value_counts()"
   ]
  },
  {
   "cell_type": "code",
   "execution_count": 68,
   "id": "03422731",
   "metadata": {},
   "outputs": [
    {
     "data": {
      "text/plain": [
       "1500.0    30\n",
       "1600.0    30\n",
       "1700.0    30\n",
       "Name: Temp, dtype: int64"
      ]
     },
     "execution_count": 68,
     "metadata": {},
     "output_type": "execute_result"
    }
   ],
   "source": [
    "d3.Temp.value_counts()"
   ]
  },
  {
   "cell_type": "markdown",
   "id": "f5bbee89",
   "metadata": {},
   "source": [
    "7.2 Before the hypotheses may be tested, state the required assumptions. Are the assumptions fulfilled? Comment separately on both alloy types.?"
   ]
  },
  {
   "cell_type": "markdown",
   "id": "cead7abf",
   "metadata": {},
   "source": [
    "Required assumptions"
   ]
  },
  {
   "cell_type": "markdown",
   "id": "8300e887",
   "metadata": {},
   "source": [
    "-The samples drawn from different populations are independent and random.\n",
    "\n",
    "-There should be no significant outliers.\n",
    "\n",
    "-Dependent variable should be measured at the continues level.\n",
    "\n",
    "-Independent variables should each consist of tow or more categorical , independent groups.\n",
    "\n",
    "-Dependent variable should be approximately normally distributed.\n",
    "\n",
    "-Number of observations in each group are same."
   ]
  },
  {
   "cell_type": "markdown",
   "id": "06a845b7",
   "metadata": {},
   "source": [
    "Checking assumptions for the given data set-"
   ]
  },
  {
   "cell_type": "code",
   "execution_count": 69,
   "id": "d6a5ec7c",
   "metadata": {},
   "outputs": [
    {
     "data": {
      "image/png": "[encoded data removed]",
      "text/plain": [
       "<Figure size 1500x800 with 6 Axes>"
      ]
     },
     "metadata": {},
     "output_type": "display_data"
    }
   ],
   "source": [
    "#Checking normality of distribution. \n",
    "d3.hist(figsize=(15,8))\n",
    "plt.show()"
   ]
  },
  {
   "cell_type": "markdown",
   "id": "9355253a",
   "metadata": {},
   "source": [
    "Checking Outliers"
   ]
  },
  {
   "cell_type": "code",
   "execution_count": 70,
   "id": "833e8fd2",
   "metadata": {},
   "outputs": [
    {
     "data": {
      "image/png": "[encoded data removed]",
      "text/plain": [
       "<Figure size 640x480 with 1 Axes>"
      ]
     },
     "metadata": {},
     "output_type": "display_data"
    }
   ],
   "source": [
    "sns.boxplot(x= d3['Dentist'], color='lightblue')\n",
    "plt.show()"
   ]
  },
  {
   "cell_type": "code",
   "execution_count": 71,
   "id": "a157bd09",
   "metadata": {},
   "outputs": [
    {
     "data": {
      "image/png": "[encoded data removed]",
      "text/plain": [
       "<Figure size 640x480 with 1 Axes>"
      ]
     },
     "metadata": {},
     "output_type": "display_data"
    }
   ],
   "source": [
    "sns.boxplot(x= d3['Method'], color='lightblue')\n",
    "plt.show()"
   ]
  },
  {
   "cell_type": "code",
   "execution_count": 72,
   "id": "19093487",
   "metadata": {},
   "outputs": [
    {
     "data": {
      "image/png": "[encoded data removed]",
      "text/plain": [
       "<Figure size 640x480 with 1 Axes>"
      ]
     },
     "metadata": {},
     "output_type": "display_data"
    }
   ],
   "source": [
    "sns.boxplot(x= d3['Alloy'], color='lightblue')\n",
    "plt.show()"
   ]
  },
  {
   "cell_type": "code",
   "execution_count": 73,
   "id": "123cf8e9",
   "metadata": {},
   "outputs": [
    {
     "data": {
      "image/png": "[encoded data removed]",
      "text/plain": [
       "<Figure size 640x480 with 1 Axes>"
      ]
     },
     "metadata": {},
     "output_type": "display_data"
    }
   ],
   "source": [
    "sns.boxplot(x= d3['Temp'], color='lightblue')\n",
    "plt.show()"
   ]
  },
  {
   "cell_type": "code",
   "execution_count": 74,
   "id": "cc079037",
   "metadata": {},
   "outputs": [
    {
     "data": {
      "image/png": "[encoded data removed]",
      "text/plain": [
       "<Figure size 640x480 with 1 Axes>"
      ]
     },
     "metadata": {},
     "output_type": "display_data"
    }
   ],
   "source": [
    "sns.boxplot(x=d3['Response'], color='lightblue')\n",
    "plt.show()"
   ]
  },
  {
   "cell_type": "code",
   "execution_count": 75,
   "id": "1d5000b3",
   "metadata": {},
   "outputs": [],
   "source": [
    "#removing outliers. \n",
    "def remove_outlier(col):\n",
    "    sorted(col)\n",
    "    Q1,Q3=col.quantile([0.25,0.75])\n",
    "    IQR=Q3-Q1\n",
    "    lower_range= Q1-(1.5 * IQR)\n",
    "    upper_range= Q3+(1.5 * IQR)\n",
    "    return lower_range, upper_range"
   ]
  },
  {
   "cell_type": "code",
   "execution_count": 76,
   "id": "a0ffede2",
   "metadata": {},
   "outputs": [],
   "source": [
    "lrincome,urincome=remove_outlier(d3['Response'])\n",
    "d3['Response']=np.where(d3['Response']>urincome,urincome,d3['Response'])\n",
    "d3['Response']=np.where(d3['Response']<lrincome,lrincome,d3['Response'])"
   ]
  },
  {
   "cell_type": "code",
   "execution_count": 77,
   "id": "fa68e30d",
   "metadata": {},
   "outputs": [
    {
     "data": {
      "image/png": "[encoded data removed]",
      "text/plain": [
       "<Figure size 1500x800 with 6 Axes>"
      ]
     },
     "metadata": {},
     "output_type": "display_data"
    }
   ],
   "source": [
    "d3.hist(figsize=(15,8))\n",
    "plt.show()"
   ]
  },
  {
   "cell_type": "code",
   "execution_count": 78,
   "id": "5ea47fbf",
   "metadata": {},
   "outputs": [
    {
     "data": {
      "image/png": "[encoded data removed]",
      "text/plain": [
       "<Figure size 640x480 with 1 Axes>"
      ]
     },
     "metadata": {},
     "output_type": "display_data"
    }
   ],
   "source": [
    "#outliers removed\n",
    "sns.boxplot(x= d3['Response'], color='lightblue')\n",
    "plt.show()"
   ]
  },
  {
   "cell_type": "code",
   "execution_count": 79,
   "id": "01858b99",
   "metadata": {},
   "outputs": [],
   "source": [
    "#changing numerical variables to categorical variables\n",
    "d3['Dentist']= pd.Categorical(d3['Dentist'])\n",
    "d3['Method']= pd.Categorical(d3['Method'])\n",
    "d3['Alloy']= pd.Categorical(d3['Alloy'])\n",
    "d3['Temp']=pd.Categorical(d3['Temp'])"
   ]
  },
  {
   "cell_type": "code",
   "execution_count": 80,
   "id": "55fe8f8f",
   "metadata": {},
   "outputs": [
    {
     "name": "stdout",
     "output_type": "stream",
     "text": [
      "<class 'pandas.core.frame.DataFrame'>\n",
      "RangeIndex: 90 entries, 0 to 89\n",
      "Data columns (total 5 columns):\n",
      " #   Column    Non-Null Count  Dtype   \n",
      "---  ------    --------------  -----   \n",
      " 0   Dentist   90 non-null     category\n",
      " 1   Method    90 non-null     category\n",
      " 2   Alloy     90 non-null     category\n",
      " 3   Temp      90 non-null     category\n",
      " 4   Response  90 non-null     float64 \n",
      "dtypes: category(4), float64(1)\n",
      "memory usage: 1.8 KB\n"
     ]
    }
   ],
   "source": [
    "d3.info()"
   ]
  },
  {
   "cell_type": "code",
   "execution_count": 81,
   "id": "f3295ee6",
   "metadata": {},
   "outputs": [],
   "source": [
    "#forming subcategories\n",
    "Dentist_1 = d3[d3['Dentist']==1]['Response']\n",
    "Dentist_2 = d3[d3['Dentist']==2]['Response']\n",
    "Dentist_3 = d3[d3['Dentist']==3]['Response']\n",
    "Dentist_4 = d3[d3['Dentist']==4]['Response']\n",
    "Dentist_5 = d3[d3['Dentist']==5]['Response']\n",
    "\n",
    "Method_1 = d3[d3['Method']==1]['Response']\n",
    "Method_2 = d3[d3['Method']==2]['Response']\n",
    "Method_3 = d3[d3['Method']==3]['Response']\n",
    "\n",
    "Alloy_1 = d3[d3['Alloy']==1]['Response']\n",
    "Alloy_2 = d3[d3['Alloy']==2]['Response']\n",
    "Alloy_3 = d3[d3['Alloy']==3]['Response']\n",
    "\n",
    "Temp_1 = d3[d3['Temp']==1500]['Response']\n",
    "Temp_2 = d3[d3['Temp']==1600]['Response']\n",
    "Temp_3 = d3[d3['Temp']==1700]['Response']"
   ]
  },
  {
   "cell_type": "code",
   "execution_count": 82,
   "id": "0b50e8b8",
   "metadata": {},
   "outputs": [
    {
     "name": "stdout",
     "output_type": "stream",
     "text": [
      "18\n",
      "18\n",
      "18\n",
      "18\n",
      "18\n"
     ]
    }
   ],
   "source": [
    "#checking value counts of each group\n",
    "print(len(Dentist_1))\n",
    "print(len(Dentist_2))\n",
    "print(len(Dentist_3))\n",
    "print(len(Dentist_4))\n",
    "print(len(Dentist_5))"
   ]
  },
  {
   "cell_type": "code",
   "execution_count": 83,
   "id": "90770056",
   "metadata": {},
   "outputs": [
    {
     "name": "stdout",
     "output_type": "stream",
     "text": [
      "30\n",
      "30\n",
      "30\n"
     ]
    }
   ],
   "source": [
    "print(len(Method_1))\n",
    "print(len(Method_2))\n",
    "print(len(Method_3))"
   ]
  },
  {
   "cell_type": "code",
   "execution_count": 84,
   "id": "0f978816",
   "metadata": {},
   "outputs": [
    {
     "name": "stdout",
     "output_type": "stream",
     "text": [
      "45\n",
      "45\n"
     ]
    }
   ],
   "source": [
    "print(len(Alloy_1))\n",
    "print(len(Alloy_2))\n"
   ]
  },
  {
   "cell_type": "code",
   "execution_count": 85,
   "id": "0b690b6a",
   "metadata": {},
   "outputs": [
    {
     "name": "stdout",
     "output_type": "stream",
     "text": [
      "30\n",
      "30\n",
      "30\n"
     ]
    }
   ],
   "source": [
    "print(len(Temp_1))\n",
    "print(len(Temp_2))\n",
    "print(len(Temp_3))"
   ]
  },
  {
   "cell_type": "markdown",
   "id": "c6feffdb",
   "metadata": {},
   "source": [
    "Checking Normality"
   ]
  },
  {
   "cell_type": "code",
   "execution_count": 86,
   "id": "0cb39a87",
   "metadata": {},
   "outputs": [
    {
     "name": "stdout",
     "output_type": "stream",
     "text": [
      "ShapiroResult(statistic=0.9512532949447632, pvalue=0.4450162947177887)\n",
      "ShapiroResult(statistic=0.9665580987930298, pvalue=0.7310513854026794)\n",
      "ShapiroResult(statistic=0.9573881030082703, pvalue=0.5520960092544556)\n",
      "\n",
      "\n",
      "ShapiroResult(statistic=0.9796934127807617, pvalue=0.8173429369926453)\n",
      "ShapiroResult(statistic=0.9809848666191101, pvalue=0.8510975241661072)\n",
      "ShapiroResult(statistic=0.8871710896492004, pvalue=0.0041368273086845875)\n",
      "\n",
      "\n",
      "ShapiroResult(statistic=0.8991958498954773, pvalue=0.0008944685687310994)\n",
      "ShapiroResult(statistic=0.9278666377067566, pvalue=0.00789062399417162)\n",
      "\n",
      "\n",
      "ShapiroResult(statistic=0.9331822395324707, pvalue=0.0596865713596344)\n",
      "ShapiroResult(statistic=0.9791679382324219, pvalue=0.8030202984809875)\n",
      "ShapiroResult(statistic=0.9185510277748108, pvalue=0.024601193144917488)\n"
     ]
    }
   ],
   "source": [
    "from scipy import stats\n",
    "#The Shapiro-Wilk test tests the null hypothesis that the data was drawn from a normal distribution.\n",
    "#alpha = 0.05\n",
    "print(stats.shapiro([Dentist_1]))\n",
    "print(stats.shapiro([Dentist_2]))\n",
    "print(stats.shapiro([Dentist_3]))\n",
    "\n",
    "print('\\n')\n",
    "print(stats.shapiro([Method_1]))\n",
    "print(stats.shapiro([Method_2]))\n",
    "print(stats.shapiro([Method_3]))\n",
    "\n",
    "print('\\n')\n",
    "print(stats.shapiro([Alloy_1]))\n",
    "print(stats.shapiro([Alloy_2]))\n",
    "\n",
    "print('\\n')\n",
    "print(stats.shapiro([Temp_1]))\n",
    "print(stats.shapiro([Temp_2]))\n",
    "print(stats.shapiro([Temp_3]))"
   ]
  },
  {
   "cell_type": "code",
   "execution_count": 87,
   "id": "c930744f",
   "metadata": {},
   "outputs": [
    {
     "name": "stdout",
     "output_type": "stream",
     "text": [
      "AndersonResult(statistic=0.4799398656918825, critical_values=array([0.503, 0.573, 0.687, 0.802, 0.954]), significance_level=array([15. , 10. ,  5. ,  2.5,  1. ]), fit_result=  params: FitParams(loc=777.3888888888889, scale=115.36190567533873)\n",
      " success: True\n",
      " message: '`anderson` successfully fit the distribution to the data.')\n",
      "AndersonResult(statistic=0.18489207423293408, critical_values=array([0.503, 0.573, 0.687, 0.802, 0.954]), significance_level=array([15. , 10. ,  5. ,  2.5,  1. ]), fit_result=  params: FitParams(loc=786.6666666666666, scale=77.43156371159974)\n",
      " success: True\n",
      " message: '`anderson` successfully fit the distribution to the data.')\n",
      "AndersonResult(statistic=0.31139490001785575, critical_values=array([0.503, 0.573, 0.687, 0.802, 0.954]), significance_level=array([15. , 10. ,  5. ,  2.5,  1. ]), fit_result=  params: FitParams(loc=748.6111111111111, scale=69.72562942485933)\n",
      " success: True\n",
      " message: '`anderson` successfully fit the distribution to the data.')\n",
      "AndersonResult(statistic=0.24454995048703765, critical_values=array([0.521, 0.593, 0.712, 0.83 , 0.988]), significance_level=array([15. , 10. ,  5. ,  2.5,  1. ]), fit_result=  params: FitParams(loc=792.7333333333333, scale=83.09650946374023)\n",
      " success: True\n",
      " message: '`anderson` successfully fit the distribution to the data.')\n",
      "AndersonResult(statistic=0.29115203487535624, critical_values=array([0.521, 0.593, 0.712, 0.83 , 0.988]), significance_level=array([15. , 10. ,  5. ,  2.5,  1. ]), fit_result=  params: FitParams(loc=800.9333333333333, scale=85.63593079822371)\n",
      " success: True\n",
      " message: '`anderson` successfully fit the distribution to the data.')\n",
      "AndersonResult(statistic=0.25772274137976225, critical_values=array([0.521, 0.593, 0.712, 0.83 , 0.988]), significance_level=array([15. , 10. ,  5. ,  2.5,  1. ]), fit_result=  params: FitParams(loc=754.9333333333333, scale=117.53588838083141)\n",
      " success: True\n",
      " message: '`anderson` successfully fit the distribution to the data.')\n"
     ]
    }
   ],
   "source": [
    "#Anderson Darling Test if Shapiro fails\n",
    "print(stats.anderson(Dentist_1,dist='norm'))\n",
    "print(stats.anderson(Dentist_2,dist='norm'))\n",
    "print(stats.anderson(Dentist_3,dist='norm'))\n",
    "\n",
    "print(stats.anderson(Method_1,dist='norm'))\n",
    "print(stats.anderson(Method_2,dist='norm'))\n",
    "\n",
    "print(stats.anderson(Temp_2,dist='norm'))"
   ]
  },
  {
   "cell_type": "code",
   "execution_count": 88,
   "id": "0035af6b",
   "metadata": {},
   "outputs": [
    {
     "name": "stdout",
     "output_type": "stream",
     "text": [
      "LeveneResult(statistic=1.3736027902703822, pvalue=0.26240029040554935)\n",
      "LeveneResult(statistic=3.5342167607107005, pvalue=0.03344085077476839)\n",
      "LeveneResult(statistic=2.02655886945465, pvalue=0.15810620474519305)\n",
      "LeveneResult(statistic=0.11898237456285736, pvalue=0.887967666035956)\n"
     ]
    }
   ],
   "source": [
    "#checking Homogeniety\n",
    "#The Levene test tests the null hypothesis that all input samples are from populations with equal variances.\n",
    "#alpha = 0.05\n",
    "print(stats.levene(Dentist_1,Dentist_2,Dentist_3))\n",
    "print(stats.levene(Method_1,Method_2,Method_3))\n",
    "print(stats.levene(Alloy_1,Alloy_2))\n",
    "print(stats.levene(Temp_1,Temp_2,Temp_3))"
   ]
  },
  {
   "cell_type": "markdown",
   "id": "8716819c",
   "metadata": {},
   "source": [
    "In three variables pvalue is more than alpha, so fail to reject H0, and variances are equal"
   ]
  },
  {
   "cell_type": "markdown",
   "id": "43edb1ef",
   "metadata": {},
   "source": [
    "7.1-Test whether there is any difference among the dentists on the implant hardness. State the null and alternative hypotheses. Note that both types of alloys cannot be considered together. You must state the null and alternative hypotheses separately for the two types of alloys.?"
   ]
  },
  {
   "cell_type": "markdown",
   "id": "6702e474",
   "metadata": {},
   "source": [
    "The Hypothesis for the One Way ANOVA are"
   ]
  },
  {
   "cell_type": "markdown",
   "id": "9b4dc5a0",
   "metadata": {},
   "source": [
    "𝐻0\n",
    " : The mean response is the same for all three dentists. 𝐻𝑎\n",
    ": For at least one pair the mean response will be different. 𝐻0\n",
    ":The mean response is same for both the alloys. 𝐻𝑎\n",
    ":The mean response is different for both the alloys."
   ]
  },
  {
   "cell_type": "code",
   "execution_count": 89,
   "id": "52ffa518",
   "metadata": {},
   "outputs": [
    {
     "data": {
      "text/html": [
       "<div>\n",
       "<style scoped>\n",
       "    .dataframe tbody tr th:only-of-type {\n",
       "        vertical-align: middle;\n",
       "    }\n",
       "\n",
       "    .dataframe tbody tr th {\n",
       "        vertical-align: top;\n",
       "    }\n",
       "\n",
       "    .dataframe thead th {\n",
       "        text-align: right;\n",
       "    }\n",
       "</style>\n",
       "<table border=\"1\" class=\"dataframe\">\n",
       "  <thead>\n",
       "    <tr style=\"text-align: right;\">\n",
       "      <th></th>\n",
       "      <th>df</th>\n",
       "      <th>sum_sq</th>\n",
       "      <th>mean_sq</th>\n",
       "      <th>F</th>\n",
       "      <th>PR(&gt;F)</th>\n",
       "    </tr>\n",
       "  </thead>\n",
       "  <tbody>\n",
       "    <tr>\n",
       "      <th>C(Dentist)</th>\n",
       "      <td>4.0</td>\n",
       "      <td>7.884522e+04</td>\n",
       "      <td>19711.305556</td>\n",
       "      <td>1.496761</td>\n",
       "      <td>0.210408</td>\n",
       "    </tr>\n",
       "    <tr>\n",
       "      <th>Residual</th>\n",
       "      <td>85.0</td>\n",
       "      <td>1.119391e+06</td>\n",
       "      <td>13169.309150</td>\n",
       "      <td>NaN</td>\n",
       "      <td>NaN</td>\n",
       "    </tr>\n",
       "  </tbody>\n",
       "</table>\n",
       "</div>"
      ],
      "text/plain": [
       "              df        sum_sq       mean_sq         F    PR(>F)\n",
       "C(Dentist)   4.0  7.884522e+04  19711.305556  1.496761  0.210408\n",
       "Residual    85.0  1.119391e+06  13169.309150       NaN       NaN"
      ]
     },
     "execution_count": 89,
     "metadata": {},
     "output_type": "execute_result"
    }
   ],
   "source": [
    "formula = 'Response ~ C(Dentist)'\n",
    "model = ols(formula, d3).fit()\n",
    "aov_table = anova_lm(model)\n",
    "(aov_table)"
   ]
  },
  {
   "cell_type": "markdown",
   "id": "4c33ebc4",
   "metadata": {},
   "source": [
    "Now, we see that the corresponding p-value is greater than alpha (0.05). Thus, we  𝐟𝐚𝐢𝐥 𝐭𝐨 𝐫𝐞𝐣𝐞𝐜𝐭\n",
    "  the  𝐍𝐮𝐥𝐥 𝐇𝐲𝐩𝐨𝐭𝐡𝐞𝐬𝐢𝐬\n",
    "  ( 𝐻0\n",
    " )."
   ]
  },
  {
   "cell_type": "markdown",
   "id": "6e8b65f7",
   "metadata": {},
   "source": [
    "Thus dentist does not derive the response. They are from same population."
   ]
  },
  {
   "cell_type": "markdown",
   "id": "2b29b0e5",
   "metadata": {},
   "source": [
    "7.3 Irrespective of your conclusion in 7.2, we will continue with the testing procedure. What do you conclude regarding whether implant hardness depends on dentists? Clearly state your conclusion. If the null hypothesis is rejected, is it possible to identify which pairs of dentists differ?"
   ]
  },
  {
   "cell_type": "markdown",
   "id": "56ebbda1",
   "metadata": {},
   "source": [
    "The Hypothesis for the One Way ANOVA are"
   ]
  },
  {
   "cell_type": "markdown",
   "id": "65e3c7a4",
   "metadata": {},
   "source": [
    "𝐻0\n",
    " : The mean response is the same for all three dentists.  𝐻𝑎\n",
    " : For at least one pair the mean response will be different.  𝐻0\n",
    " :The mean response is same for both the alloys.  𝐻𝑎\n",
    " :The mean response is different for both the alloys."
   ]
  },
  {
   "cell_type": "code",
   "execution_count": 90,
   "id": "6b18e829",
   "metadata": {},
   "outputs": [
    {
     "data": {
      "text/html": [
       "<div>\n",
       "<style scoped>\n",
       "    .dataframe tbody tr th:only-of-type {\n",
       "        vertical-align: middle;\n",
       "    }\n",
       "\n",
       "    .dataframe tbody tr th {\n",
       "        vertical-align: top;\n",
       "    }\n",
       "\n",
       "    .dataframe thead th {\n",
       "        text-align: right;\n",
       "    }\n",
       "</style>\n",
       "<table border=\"1\" class=\"dataframe\">\n",
       "  <thead>\n",
       "    <tr style=\"text-align: right;\">\n",
       "      <th></th>\n",
       "      <th>df</th>\n",
       "      <th>sum_sq</th>\n",
       "      <th>mean_sq</th>\n",
       "      <th>F</th>\n",
       "      <th>PR(&gt;F)</th>\n",
       "    </tr>\n",
       "  </thead>\n",
       "  <tbody>\n",
       "    <tr>\n",
       "      <th>C(Dentist)</th>\n",
       "      <td>4.0</td>\n",
       "      <td>7.884522e+04</td>\n",
       "      <td>19711.305556</td>\n",
       "      <td>1.496761</td>\n",
       "      <td>0.210408</td>\n",
       "    </tr>\n",
       "    <tr>\n",
       "      <th>Residual</th>\n",
       "      <td>85.0</td>\n",
       "      <td>1.119391e+06</td>\n",
       "      <td>13169.309150</td>\n",
       "      <td>NaN</td>\n",
       "      <td>NaN</td>\n",
       "    </tr>\n",
       "  </tbody>\n",
       "</table>\n",
       "</div>"
      ],
      "text/plain": [
       "              df        sum_sq       mean_sq         F    PR(>F)\n",
       "C(Dentist)   4.0  7.884522e+04  19711.305556  1.496761  0.210408\n",
       "Residual    85.0  1.119391e+06  13169.309150       NaN       NaN"
      ]
     },
     "execution_count": 90,
     "metadata": {},
     "output_type": "execute_result"
    }
   ],
   "source": [
    "formula = 'Response ~ C(Dentist)'\n",
    "model = ols(formula, d3).fit()\n",
    "aov_table = anova_lm(model)\n",
    "(aov_table)"
   ]
  },
  {
   "cell_type": "markdown",
   "id": "67280256",
   "metadata": {},
   "source": [
    "Now, we see that the corresponding p-value is greater than alpha (0.05). Thus, we  𝐟𝐚𝐢𝐥 𝐭𝐨 𝐫𝐞𝐣𝐞𝐜𝐭\n",
    "  the  𝐍𝐮𝐥𝐥 𝐇𝐲𝐩𝐨𝐭𝐡𝐞𝐬𝐢𝐬\n",
    "  ( 𝐻0\n",
    " )."
   ]
  },
  {
   "cell_type": "code",
   "execution_count": 91,
   "id": "ef8adb48",
   "metadata": {},
   "outputs": [
    {
     "name": "stderr",
     "output_type": "stream",
     "text": [
      "C:\\Users\\ANAY TIWARI\\AppData\\Local\\Temp\\ipykernel_20640\\574218618.py:1: FutureWarning: \n",
      "\n",
      "The `ci` parameter is deprecated. Use `errorbar=None` for the same effect.\n",
      "\n",
      "  sns.pointplot(x='Dentist', y='Response', data=d3, ci=None)\n"
     ]
    },
    {
     "data": {
      "text/plain": [
       "<Axes: xlabel='Dentist', ylabel='Response'>"
      ]
     },
     "execution_count": 91,
     "metadata": {},
     "output_type": "execute_result"
    },
    {
     "data": {
      "image/png": "[encoded data removed]",
      "text/plain": [
       "<Figure size 640x480 with 1 Axes>"
      ]
     },
     "metadata": {},
     "output_type": "display_data"
    }
   ],
   "source": [
    "sns.pointplot(x='Dentist', y='Response', data=d3, ci=None)"
   ]
  },
  {
   "cell_type": "markdown",
   "id": "ee54ce7d",
   "metadata": {},
   "source": [
    "7.4 Now test whether there is any difference among the methods on the hardness of dental implant, separately for the two types of alloys. What are your conclusions? If the null hypothesis is rejected, is it possible to identify which pairs of methods differ?"
   ]
  },
  {
   "cell_type": "code",
   "execution_count": 92,
   "id": "46fdc6cf",
   "metadata": {},
   "outputs": [
    {
     "data": {
      "text/html": [
       "<div>\n",
       "<style scoped>\n",
       "    .dataframe tbody tr th:only-of-type {\n",
       "        vertical-align: middle;\n",
       "    }\n",
       "\n",
       "    .dataframe tbody tr th {\n",
       "        vertical-align: top;\n",
       "    }\n",
       "\n",
       "    .dataframe thead th {\n",
       "        text-align: right;\n",
       "    }\n",
       "</style>\n",
       "<table border=\"1\" class=\"dataframe\">\n",
       "  <thead>\n",
       "    <tr style=\"text-align: right;\">\n",
       "      <th></th>\n",
       "      <th>df</th>\n",
       "      <th>sum_sq</th>\n",
       "      <th>mean_sq</th>\n",
       "      <th>F</th>\n",
       "      <th>PR(&gt;F)</th>\n",
       "    </tr>\n",
       "  </thead>\n",
       "  <tbody>\n",
       "    <tr>\n",
       "      <th>C(Method)</th>\n",
       "      <td>2.0</td>\n",
       "      <td>381888.600000</td>\n",
       "      <td>190944.300000</td>\n",
       "      <td>23.924098</td>\n",
       "      <td>5.978800e-09</td>\n",
       "    </tr>\n",
       "    <tr>\n",
       "      <th>C(Alloy)</th>\n",
       "      <td>1.0</td>\n",
       "      <td>99533.877778</td>\n",
       "      <td>99533.877778</td>\n",
       "      <td>12.470957</td>\n",
       "      <td>6.740362e-04</td>\n",
       "    </tr>\n",
       "    <tr>\n",
       "      <th>C(Method):C(Alloy)</th>\n",
       "      <td>2.0</td>\n",
       "      <td>46388.688889</td>\n",
       "      <td>23194.344444</td>\n",
       "      <td>2.906103</td>\n",
       "      <td>6.020670e-02</td>\n",
       "    </tr>\n",
       "    <tr>\n",
       "      <th>Residual</th>\n",
       "      <td>84.0</td>\n",
       "      <td>670425.333333</td>\n",
       "      <td>7981.253968</td>\n",
       "      <td>NaN</td>\n",
       "      <td>NaN</td>\n",
       "    </tr>\n",
       "  </tbody>\n",
       "</table>\n",
       "</div>"
      ],
      "text/plain": [
       "                      df         sum_sq        mean_sq          F  \\\n",
       "C(Method)            2.0  381888.600000  190944.300000  23.924098   \n",
       "C(Alloy)             1.0   99533.877778   99533.877778  12.470957   \n",
       "C(Method):C(Alloy)   2.0   46388.688889   23194.344444   2.906103   \n",
       "Residual            84.0  670425.333333    7981.253968        NaN   \n",
       "\n",
       "                          PR(>F)  \n",
       "C(Method)           5.978800e-09  \n",
       "C(Alloy)            6.740362e-04  \n",
       "C(Method):C(Alloy)  6.020670e-02  \n",
       "Residual                     NaN  "
      ]
     },
     "execution_count": 92,
     "metadata": {},
     "output_type": "execute_result"
    }
   ],
   "source": [
    "formula = 'Response ~ C(Method) + C(Alloy) + C(Method):C(Alloy)'\n",
    "model = ols(formula, d3).fit()\n",
    "aov_table = anova_lm(model)\n",
    "(aov_table)"
   ]
  },
  {
   "cell_type": "markdown",
   "id": "d8c0a992",
   "metadata": {},
   "source": [
    "We see that the corresponding p-value is smaller than alpha (0.05). Thus, we  𝐫𝐞𝐣𝐞𝐜𝐭\n",
    "  the  𝐍𝐮𝐥𝐥 𝐇𝐲𝐩𝐨𝐭𝐡𝐞𝐬𝐢𝐬\n",
    "  ( 𝐻0\n",
    " )."
   ]
  },
  {
   "cell_type": "code",
   "execution_count": 93,
   "id": "4ff0401f",
   "metadata": {},
   "outputs": [
    {
     "name": "stderr",
     "output_type": "stream",
     "text": [
      "C:\\Users\\ANAY TIWARI\\AppData\\Local\\Temp\\ipykernel_20640\\1124839350.py:1: FutureWarning: \n",
      "\n",
      "The `ci` parameter is deprecated. Use `errorbar=None` for the same effect.\n",
      "\n",
      "  sns.pointplot(x='Method', y='Response', data=d3, hue='Alloy', ci=None)\n"
     ]
    },
    {
     "data": {
      "text/plain": [
       "<Axes: xlabel='Method', ylabel='Response'>"
      ]
     },
     "execution_count": 93,
     "metadata": {},
     "output_type": "execute_result"
    },
    {
     "data": {
      "image/png": "[encoded data removed]",
      "text/plain": [
       "<Figure size 640x480 with 1 Axes>"
      ]
     },
     "metadata": {},
     "output_type": "display_data"
    }
   ],
   "source": [
    "sns.pointplot(x='Method', y='Response', data=d3, hue='Alloy', ci=None)"
   ]
  },
  {
   "cell_type": "code",
   "execution_count": 94,
   "id": "f8d95f3b",
   "metadata": {},
   "outputs": [
    {
     "name": "stderr",
     "output_type": "stream",
     "text": [
      "C:\\Users\\ANAY TIWARI\\AppData\\Local\\Temp\\ipykernel_20640\\2590964405.py:1: FutureWarning: \n",
      "\n",
      "The `ci` parameter is deprecated. Use `errorbar=None` for the same effect.\n",
      "\n",
      "  sns.pointplot(x='Alloy', y='Response', data=d3, hue='Method', ci=None)\n"
     ]
    },
    {
     "data": {
      "text/plain": [
       "<Axes: xlabel='Alloy', ylabel='Response'>"
      ]
     },
     "execution_count": 94,
     "metadata": {},
     "output_type": "execute_result"
    },
    {
     "data": {
      "image/png": "[encoded data removed]",
      "text/plain": [
       "<Figure size 640x480 with 1 Axes>"
      ]
     },
     "metadata": {},
     "output_type": "display_data"
    }
   ],
   "source": [
    "sns.pointplot(x='Alloy', y='Response', data=d3, hue='Method', ci=None)"
   ]
  },
  {
   "cell_type": "markdown",
   "id": "9f978800",
   "metadata": {},
   "source": [
    "7.5 Now test whether there is any difference among the temperature levels on the hardness of dental implant, separately for the two types of alloys. What are your conclusions? If the null hypothesis is rejected, is it possible to identify which levels of temperatures differ?"
   ]
  },
  {
   "cell_type": "code",
   "execution_count": 95,
   "id": "ec17387e",
   "metadata": {},
   "outputs": [
    {
     "data": {
      "text/html": [
       "<div>\n",
       "<style scoped>\n",
       "    .dataframe tbody tr th:only-of-type {\n",
       "        vertical-align: middle;\n",
       "    }\n",
       "\n",
       "    .dataframe tbody tr th {\n",
       "        vertical-align: top;\n",
       "    }\n",
       "\n",
       "    .dataframe thead th {\n",
       "        text-align: right;\n",
       "    }\n",
       "</style>\n",
       "<table border=\"1\" class=\"dataframe\">\n",
       "  <thead>\n",
       "    <tr style=\"text-align: right;\">\n",
       "      <th></th>\n",
       "      <th>df</th>\n",
       "      <th>sum_sq</th>\n",
       "      <th>mean_sq</th>\n",
       "      <th>F</th>\n",
       "      <th>PR(&gt;F)</th>\n",
       "    </tr>\n",
       "  </thead>\n",
       "  <tbody>\n",
       "    <tr>\n",
       "      <th>C(Temp)</th>\n",
       "      <td>2.0</td>\n",
       "      <td>3.546060e+04</td>\n",
       "      <td>17730.300000</td>\n",
       "      <td>1.421276</td>\n",
       "      <td>0.247151</td>\n",
       "    </tr>\n",
       "    <tr>\n",
       "      <th>C(Alloy)</th>\n",
       "      <td>1.0</td>\n",
       "      <td>9.953388e+04</td>\n",
       "      <td>99533.877778</td>\n",
       "      <td>7.978719</td>\n",
       "      <td>0.005911</td>\n",
       "    </tr>\n",
       "    <tr>\n",
       "      <th>C(Temp):C(Alloy)</th>\n",
       "      <td>2.0</td>\n",
       "      <td>1.534882e+04</td>\n",
       "      <td>7674.411111</td>\n",
       "      <td>0.615187</td>\n",
       "      <td>0.542957</td>\n",
       "    </tr>\n",
       "    <tr>\n",
       "      <th>Residual</th>\n",
       "      <td>84.0</td>\n",
       "      <td>1.047893e+06</td>\n",
       "      <td>12474.919048</td>\n",
       "      <td>NaN</td>\n",
       "      <td>NaN</td>\n",
       "    </tr>\n",
       "  </tbody>\n",
       "</table>\n",
       "</div>"
      ],
      "text/plain": [
       "                    df        sum_sq       mean_sq         F    PR(>F)\n",
       "C(Temp)            2.0  3.546060e+04  17730.300000  1.421276  0.247151\n",
       "C(Alloy)           1.0  9.953388e+04  99533.877778  7.978719  0.005911\n",
       "C(Temp):C(Alloy)   2.0  1.534882e+04   7674.411111  0.615187  0.542957\n",
       "Residual          84.0  1.047893e+06  12474.919048       NaN       NaN"
      ]
     },
     "execution_count": 95,
     "metadata": {},
     "output_type": "execute_result"
    }
   ],
   "source": [
    "formula = 'Response ~ C(Temp) + C(Alloy)+C(Temp):C(Alloy)'\n",
    "model = ols(formula, d3).fit()\n",
    "aov_table = anova_lm(model)\n",
    "(aov_table)"
   ]
  },
  {
   "cell_type": "markdown",
   "id": "5874a5e6",
   "metadata": {},
   "source": [
    "7.6 Consider the interaction effect of dentist and method and comment on the interaction plot, separately for the two types of alloys?"
   ]
  },
  {
   "cell_type": "code",
   "execution_count": 96,
   "id": "63673fae",
   "metadata": {},
   "outputs": [
    {
     "data": {
      "text/html": [
       "<div>\n",
       "<style scoped>\n",
       "    .dataframe tbody tr th:only-of-type {\n",
       "        vertical-align: middle;\n",
       "    }\n",
       "\n",
       "    .dataframe tbody tr th {\n",
       "        vertical-align: top;\n",
       "    }\n",
       "\n",
       "    .dataframe thead th {\n",
       "        text-align: right;\n",
       "    }\n",
       "</style>\n",
       "<table border=\"1\" class=\"dataframe\">\n",
       "  <thead>\n",
       "    <tr style=\"text-align: right;\">\n",
       "      <th></th>\n",
       "      <th>df</th>\n",
       "      <th>sum_sq</th>\n",
       "      <th>mean_sq</th>\n",
       "      <th>F</th>\n",
       "      <th>PR(&gt;F)</th>\n",
       "    </tr>\n",
       "  </thead>\n",
       "  <tbody>\n",
       "    <tr>\n",
       "      <th>C(Dentist)</th>\n",
       "      <td>4.0</td>\n",
       "      <td>78845.222222</td>\n",
       "      <td>19711.305556</td>\n",
       "      <td>2.548191</td>\n",
       "      <td>4.613193e-02</td>\n",
       "    </tr>\n",
       "    <tr>\n",
       "      <th>C(Method)</th>\n",
       "      <td>2.0</td>\n",
       "      <td>381888.600000</td>\n",
       "      <td>190944.300000</td>\n",
       "      <td>24.684441</td>\n",
       "      <td>5.795721e-09</td>\n",
       "    </tr>\n",
       "    <tr>\n",
       "      <th>C(Dentist):C(Method)</th>\n",
       "      <td>8.0</td>\n",
       "      <td>157346.844444</td>\n",
       "      <td>19668.355556</td>\n",
       "      <td>2.542639</td>\n",
       "      <td>1.657388e-02</td>\n",
       "    </tr>\n",
       "    <tr>\n",
       "      <th>Residual</th>\n",
       "      <td>75.0</td>\n",
       "      <td>580155.833333</td>\n",
       "      <td>7735.411111</td>\n",
       "      <td>NaN</td>\n",
       "      <td>NaN</td>\n",
       "    </tr>\n",
       "  </tbody>\n",
       "</table>\n",
       "</div>"
      ],
      "text/plain": [
       "                        df         sum_sq        mean_sq          F  \\\n",
       "C(Dentist)             4.0   78845.222222   19711.305556   2.548191   \n",
       "C(Method)              2.0  381888.600000  190944.300000  24.684441   \n",
       "C(Dentist):C(Method)   8.0  157346.844444   19668.355556   2.542639   \n",
       "Residual              75.0  580155.833333    7735.411111        NaN   \n",
       "\n",
       "                            PR(>F)  \n",
       "C(Dentist)            4.613193e-02  \n",
       "C(Method)             5.795721e-09  \n",
       "C(Dentist):C(Method)  1.657388e-02  \n",
       "Residual                       NaN  "
      ]
     },
     "execution_count": 96,
     "metadata": {},
     "output_type": "execute_result"
    }
   ],
   "source": [
    "formula = 'Response ~ C(Dentist) + C(Method) + C(Dentist):C(Method)'\n",
    "model = ols(formula, d3).fit()\n",
    "aov_table = anova_lm(model)\n",
    "(aov_table)"
   ]
  },
  {
   "cell_type": "markdown",
   "id": "5701ae52",
   "metadata": {},
   "source": [
    "Since the p value for interaction effect is way less than alpha, we can conclude that there is no effect of interaction effect on our response variable."
   ]
  },
  {
   "cell_type": "code",
   "execution_count": 97,
   "id": "fb4ece29",
   "metadata": {},
   "outputs": [
    {
     "name": "stderr",
     "output_type": "stream",
     "text": [
      "C:\\Users\\ANAY TIWARI\\AppData\\Local\\Temp\\ipykernel_20640\\2085740046.py:1: FutureWarning: \n",
      "\n",
      "The `ci` parameter is deprecated. Use `errorbar=None` for the same effect.\n",
      "\n",
      "  sns.pointplot(x='Dentist', y='Response', data=d3, hue='Method', ci=None)\n"
     ]
    },
    {
     "data": {
      "text/plain": [
       "<Axes: xlabel='Dentist', ylabel='Response'>"
      ]
     },
     "execution_count": 97,
     "metadata": {},
     "output_type": "execute_result"
    },
    {
     "data": {
      "image/png": "[encoded data removed]",
      "text/plain": [
       "<Figure size 640x480 with 1 Axes>"
      ]
     },
     "metadata": {},
     "output_type": "display_data"
    }
   ],
   "source": [
    "sns.pointplot(x='Dentist', y='Response', data=d3, hue='Method', ci=None)"
   ]
  },
  {
   "cell_type": "markdown",
   "id": "8b9c58fa",
   "metadata": {},
   "source": [
    "7.7 Now consider the effect of both factors, dentist, and method, separately on each alloy. What do you conclude? Is it possible to identify which dentists are different, which methods are different, and which interaction levels are different?"
   ]
  },
  {
   "cell_type": "code",
   "execution_count": 98,
   "id": "c761df10",
   "metadata": {},
   "outputs": [
    {
     "name": "stdout",
     "output_type": "stream",
     "text": [
      "ANALYSIS FOR ALLOY TYPE 1.0:\n",
      "ANOVA Table for Dentist:\n",
      "                   sum_sq    df         F    PR(>F)\n",
      "C(Dentist)   66319.422222   4.0  2.026521  0.109066\n",
      "Residual    327257.555556  40.0       NaN       NaN\n",
      "ANOVA Table for Method:\n",
      "                  sum_sq    df         F    PR(>F)\n",
      "C(Method)   83943.644444   2.0  5.693239  0.006489\n",
      "Residual   309633.333333  42.0       NaN       NaN\n",
      "\n",
      "\n",
      "ANALYSIS FOR ALLOY TYPE 2.0:\n",
      "ANOVA Table for Dentist:\n",
      "                   sum_sq    df         F    PR(>F)\n",
      "C(Dentist)   20704.977778   4.0  0.302518  0.874547\n",
      "Residual    684420.666667  40.0       NaN       NaN\n",
      "ANOVA Table for Method:\n",
      "                  sum_sq    df          F        PR(>F)\n",
      "C(Method)  344333.644444   2.0  20.042037  7.741020e-07\n",
      "Residual   360792.000000  42.0        NaN           NaN\n",
      "\n",
      "\n"
     ]
    }
   ],
   "source": [
    "def perform_one_way_anova(d3, factor):\n",
    "    formula = f'Response ~ C({factor})'\n",
    "    model = ols(formula, data=d3).fit()\n",
    "    anova_table = anova_lm(model, typ=2)\n",
    "    print(f\"ANOVA Table for {factor}:\")\n",
    "    print(anova_table)\n",
    "\n",
    "# Perform one-way ANOVA tests for Dentist and Method for each alloy type\n",
    "for alloy_type in d3['Alloy'].unique():\n",
    "    subset_d3 = d3[d3['Alloy'] == alloy_type]\n",
    "    print(f\"ANALYSIS FOR ALLOY TYPE {alloy_type}:\")\n",
    "    perform_one_way_anova(subset_d3, 'Dentist')\n",
    "    perform_one_way_anova(subset_d3, 'Method')\n",
    "    print(\"\\n\")\n",
    "\n",
    "\n",
    "\n",
    "\n"
   ]
  }
 ],
 "metadata": {
  "kernelspec": {
   "display_name": "Python 3 (ipykernel)",
   "language": "python",
   "name": "python3"
  },
  "language_info": {
   "codemirror_mode": {
    "name": "ipython",
    "version": 3
   },
   "file_extension": ".py",
   "mimetype": "text/x-python",
   "name": "python",
   "nbconvert_exporter": "python",
   "pygments_lexer": "ipython3",
   "version": "3.10.9"
  }
 },
 "nbformat": 4,
 "nbformat_minor": 5
}
